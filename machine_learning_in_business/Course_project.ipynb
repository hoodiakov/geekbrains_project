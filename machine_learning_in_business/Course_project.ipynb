{
 "cells": [
  {
   "cell_type": "markdown",
   "metadata": {},
   "source": [
    "### Модель машинного обучения для выявления токсичных комментариев с точностью не менее 90%."
   ]
  },
  {
   "cell_type": "code",
   "execution_count": 1,
   "metadata": {},
   "outputs": [
    {
     "name": "stderr",
     "output_type": "stream",
     "text": [
      "[nltk_data] Downloading package punkt to\n",
      "[nltk_data]     C:\\Users\\79609\\AppData\\Roaming\\nltk_data...\n",
      "[nltk_data]   Package punkt is already up-to-date!\n"
     ]
    }
   ],
   "source": [
    "'''Подключим необходимые библиотеки'''\n",
    "\n",
    "import pandas as pd\n",
    "from sklearn.model_selection import train_test_split\n",
    "import nltk\n",
    "import string\n",
    "from nltk.corpus import stopwords\n",
    "from nltk.tokenize import word_tokenize\n",
    "from nltk.stem import SnowballStemmer\n",
    "nltk.download('punkt')\n",
    "from sklearn.pipeline import Pipeline\n",
    "from sklearn.linear_model import LogisticRegression\n",
    "from sklearn.feature_extraction.text import TfidfVectorizer\n",
    "from sklearn.metrics import precision_score, recall_score, precision_recall_curve\n",
    "from matplotlib import pyplot as plt\n",
    "from sklearn.metrics import plot_precision_recall_curve\n",
    "import numpy as np\n",
    "from sklearn.model_selection import GridSearchCV"
   ]
  },
  {
   "cell_type": "code",
   "execution_count": 2,
   "metadata": {},
   "outputs": [],
   "source": [
    "'''Создадим датафрейм. Данные для модели были взяты с \n",
    "https://www.kaggle.com/blackmoon/russian-language-toxic-comments?select=labeled.csv'''\n",
    "\n",
    "df = pd.read_csv(\"labeled.csv\", sep=\",\")"
   ]
  },
  {
   "cell_type": "code",
   "execution_count": 3,
   "metadata": {},
   "outputs": [
    {
     "data": {
      "text/plain": [
       "(14412, 2)"
      ]
     },
     "execution_count": 3,
     "metadata": {},
     "output_type": "execute_result"
    }
   ],
   "source": [
    "'''Датафрейм имеет размерность:'''\n",
    "\n",
    "df.shape"
   ]
  },
  {
   "cell_type": "code",
   "execution_count": 4,
   "metadata": {},
   "outputs": [
    {
     "data": {
      "text/html": [
       "<div>\n",
       "<style scoped>\n",
       "    .dataframe tbody tr th:only-of-type {\n",
       "        vertical-align: middle;\n",
       "    }\n",
       "\n",
       "    .dataframe tbody tr th {\n",
       "        vertical-align: top;\n",
       "    }\n",
       "\n",
       "    .dataframe thead th {\n",
       "        text-align: right;\n",
       "    }\n",
       "</style>\n",
       "<table border=\"1\" class=\"dataframe\">\n",
       "  <thead>\n",
       "    <tr style=\"text-align: right;\">\n",
       "      <th></th>\n",
       "      <th>comment</th>\n",
       "      <th>toxic</th>\n",
       "    </tr>\n",
       "  </thead>\n",
       "  <tbody>\n",
       "    <tr>\n",
       "      <th>0</th>\n",
       "      <td>Верблюдов-то за что? Дебилы, бл...\\n</td>\n",
       "      <td>1.0</td>\n",
       "    </tr>\n",
       "    <tr>\n",
       "      <th>1</th>\n",
       "      <td>Хохлы, это отдушина затюканого россиянина, мол...</td>\n",
       "      <td>1.0</td>\n",
       "    </tr>\n",
       "    <tr>\n",
       "      <th>2</th>\n",
       "      <td>Собаке - собачья смерть\\n</td>\n",
       "      <td>1.0</td>\n",
       "    </tr>\n",
       "    <tr>\n",
       "      <th>3</th>\n",
       "      <td>Страницу обнови, дебил. Это тоже не оскорблени...</td>\n",
       "      <td>1.0</td>\n",
       "    </tr>\n",
       "    <tr>\n",
       "      <th>4</th>\n",
       "      <td>тебя не убедил 6-страничный пдф в том, что Скр...</td>\n",
       "      <td>1.0</td>\n",
       "    </tr>\n",
       "  </tbody>\n",
       "</table>\n",
       "</div>"
      ],
      "text/plain": [
       "                                             comment  toxic\n",
       "0               Верблюдов-то за что? Дебилы, бл...\\n    1.0\n",
       "1  Хохлы, это отдушина затюканого россиянина, мол...    1.0\n",
       "2                          Собаке - собачья смерть\\n    1.0\n",
       "3  Страницу обнови, дебил. Это тоже не оскорблени...    1.0\n",
       "4  тебя не убедил 6-страничный пдф в том, что Скр...    1.0"
      ]
     },
     "execution_count": 4,
     "metadata": {},
     "output_type": "execute_result"
    }
   ],
   "source": [
    "df.head(5)"
   ]
  },
  {
   "cell_type": "code",
   "execution_count": 5,
   "metadata": {},
   "outputs": [],
   "source": [
    "'''Переведем значения из столбца \"Toxic\" из float в int'''\n",
    "\n",
    "df[\"toxic\"] = df[\"toxic\"].apply(int)"
   ]
  },
  {
   "cell_type": "code",
   "execution_count": 6,
   "metadata": {},
   "outputs": [
    {
     "data": {
      "text/html": [
       "<div>\n",
       "<style scoped>\n",
       "    .dataframe tbody tr th:only-of-type {\n",
       "        vertical-align: middle;\n",
       "    }\n",
       "\n",
       "    .dataframe tbody tr th {\n",
       "        vertical-align: top;\n",
       "    }\n",
       "\n",
       "    .dataframe thead th {\n",
       "        text-align: right;\n",
       "    }\n",
       "</style>\n",
       "<table border=\"1\" class=\"dataframe\">\n",
       "  <thead>\n",
       "    <tr style=\"text-align: right;\">\n",
       "      <th></th>\n",
       "      <th>comment</th>\n",
       "      <th>toxic</th>\n",
       "    </tr>\n",
       "  </thead>\n",
       "  <tbody>\n",
       "    <tr>\n",
       "      <th>0</th>\n",
       "      <td>Верблюдов-то за что? Дебилы, бл...\\n</td>\n",
       "      <td>1</td>\n",
       "    </tr>\n",
       "    <tr>\n",
       "      <th>1</th>\n",
       "      <td>Хохлы, это отдушина затюканого россиянина, мол...</td>\n",
       "      <td>1</td>\n",
       "    </tr>\n",
       "    <tr>\n",
       "      <th>2</th>\n",
       "      <td>Собаке - собачья смерть\\n</td>\n",
       "      <td>1</td>\n",
       "    </tr>\n",
       "    <tr>\n",
       "      <th>3</th>\n",
       "      <td>Страницу обнови, дебил. Это тоже не оскорблени...</td>\n",
       "      <td>1</td>\n",
       "    </tr>\n",
       "    <tr>\n",
       "      <th>4</th>\n",
       "      <td>тебя не убедил 6-страничный пдф в том, что Скр...</td>\n",
       "      <td>1</td>\n",
       "    </tr>\n",
       "  </tbody>\n",
       "</table>\n",
       "</div>"
      ],
      "text/plain": [
       "                                             comment  toxic\n",
       "0               Верблюдов-то за что? Дебилы, бл...\\n      1\n",
       "1  Хохлы, это отдушина затюканого россиянина, мол...      1\n",
       "2                          Собаке - собачья смерть\\n      1\n",
       "3  Страницу обнови, дебил. Это тоже не оскорблени...      1\n",
       "4  тебя не убедил 6-страничный пдф в том, что Скр...      1"
      ]
     },
     "execution_count": 6,
     "metadata": {},
     "output_type": "execute_result"
    }
   ],
   "source": [
    "df.head(5)"
   ]
  },
  {
   "cell_type": "code",
   "execution_count": 7,
   "metadata": {},
   "outputs": [
    {
     "data": {
      "text/plain": [
       "0    9586\n",
       "1    4826\n",
       "Name: toxic, dtype: int64"
      ]
     },
     "execution_count": 7,
     "metadata": {},
     "output_type": "execute_result"
    }
   ],
   "source": [
    "'''Определим количество количество комментариев по классам, где \"0\"- нейтральный комментарий,\n",
    "а \"1\"- оскорбительный комментарий'''\n",
    "\n",
    "df[\"toxic\"].value_counts()"
   ]
  },
  {
   "cell_type": "code",
   "execution_count": 8,
   "metadata": {},
   "outputs": [
    {
     "name": "stdout",
     "output_type": "stream",
     "text": [
      "Верблюдов-то за что? Дебилы, бл...\n",
      "\n",
      "Хохлы, это отдушина затюканого россиянина, мол, вон, а у хохлов еще хуже. Если бы хохлов не было, кисель их бы придумал.\n",
      "\n",
      "Собаке - собачья смерть\n",
      "\n",
      "Страницу обнови, дебил. Это тоже не оскорбление, а доказанный факт - не-дебил про себя во множественном числе писать не будет. Или мы в тебя верим - это ты и твои воображаемые друзья?\n",
      "\n",
      "тебя не убедил 6-страничный пдф в том, что Скрипалей отравила Россия? Анализировать и думать пытаешься? Ватник что ли?)\n",
      "\n"
     ]
    }
   ],
   "source": [
    "'''Примеры \"токсичных\" комментариев'''\n",
    "\n",
    "for c in df[df[\"toxic\"] == 1][\"comment\"].head(5):\n",
    "    print(c)"
   ]
  },
  {
   "cell_type": "code",
   "execution_count": 9,
   "metadata": {},
   "outputs": [
    {
     "name": "stdout",
     "output_type": "stream",
     "text": [
      "В шапке были ссылки на инфу по текущему фильму марвел. Эти ссылки были заменены на фразу Репортим брипидора, игнорируем его посты. Если этого недостаточно, чтобы понять, что модератор абсолютный неадекват, и его нужно лишить полномочий, тогда эта борда пробивает абсолютное дно по неадекватности.\n",
      "\n",
      "Почитайте посты у этого автора,может найдете что нибудь полезное. Надеюсь помог) https: pikabu.ru story obyichnyie budni dezsluzhbyi 4932098\n",
      "\n",
      "Про графику было обидно) я так то проходил все серии гта со второй части по пятую, кроме гта 4. И мне не мешала графика ни в одной из частей. На компе у меня было куча видеокарт. Начиная с 32мб RIVA TNT и заканчивая 2Гб 560Ti на которой я спокойно играю который год в танки, гта5, ведьмака3 купил на распродаже и начал проходить. Да, не на ультрах. С пониженными текстурами. И не мешает. Я не понимаю дрочева на графике, требовать графику уровня плойки 4 минимум. Мне надо чтобы глаза не резало, только и всего. По поводу управления, мне не хватает переходника на type c. У меня джойстик есть от иксбокса360. Потенциала в мобильных играх достаточно чтобы забить кнопки как забивались в той же NFS MW в 2005. Не самая плохая игра была.\n",
      "\n",
      "https: pp.userapi.com c848520 v848520411 11627b cOhWqFbGjWE.jpg\n",
      "\n",
      "Возьмём как пример Россию, западноевропейские страны и США. Идёт метисация, сознательная политика замещения белого населения на пришлое черно-коричневое. Идёт создание новой расы метисов, исламизация и почернение. В крупных городах половина населения - выходцы из ебеней Мексики, Африки, Ближнего Востока, а в случае с Россией - Кавказа и Средней Азии. Этнические ниггеро-арабские гетто верят на хую законы как хотят, чудовищная по масштабам этническая преступность. Говорить о миграции и тем более затрагивать тему замещения коренного населения властями нельзя, иначе бутылка. Свобода слова тут не для вас, молодой человек. При этом говорить о том, что белые должны вымереть, и это нормально - можно. Белые официально вымирают ведётся пропаганда так или иначе направленная на снижение рождаемости белого населения. Феминизм, ЛГБТ, чайлдфри. Каждая женщина в Швеции - леволиберальная феминистка, это страна победившего феминизма. Что сегодня там происходит - страшно делается. Пропагандируются смешанные браки, межрасовые браки, пропагандируется превосходство детей-метисов. Идёт демонизация белых и пропаганда превосходства чёрных и смуглых мужчин, форс отношений белая женщина смуглый чёрный мужчина-мигрант. Как результат - всё больше чернильниц, всё больше смешанных браков, всё больше небелых метисов. Белые женщины просто не хотят контактировать с мужчинами своей нации и расы, наделяя их самыми плохими качествами и обожествляя черных. При этом большинство белых не считает завоз чурок чем-то плохим, наоборот, относятся к ним толерантно. Проводится политика насаждения толерантности, мультикультурализма, политкорректности и космополитизма. Набирающее популярность даже в России SJW - это вообще отдельная тема для обсуждения. Всё вышеперечисленное относится к сильнейшим когда-то странам, бывшим империям, нагибающим слабых. Сегодня происходит так, что бывшие империи в прямом смысле деградируют, вырождаются и вымирают, а место сильнейших когда-то, господствующих народов, занимают те, кого когда-то колонизировали. Во Франции к 2080 уже будут доминировать негры и арабы, в России - кавказцы и выходцы из средней Азии, в Великобритании - индийцы, негры, арабы, пакистанцы, etc. А в маленьких, нейтральных странах, вроде Словении или Беларуси, Литвы или Чехии, Румынии или Эстонии - всё пучком. Им вымирание не грозит, они остаются и будут оставаться белыми. Более того, у них ведётся политика, направленная на сохранение традиционных ценностей и культуры коренного населения. Они сказали беженцам нет . В Польшу, например, русскому или украинцу гораздо легче переехать и остаться, чем арабу или африканцу. В Германии ситуация противоположная, белых там не ждут. Польша, Чехия, Словакия, Венгрия, Словения, Хорватия, Сербия, БиГ, Черногория, Македония, Греция, Болгария, Румыния, Молдова, Украина, Беларусь, Литва, Латвия, Эстония - вот Европа будущего. Скандинавия, Южная, Западная Европа, а также Россия - лишатся коренного населения и своей культуры.\n",
      "\n"
     ]
    }
   ],
   "source": [
    "'''Примеры комментариев, отмеченных как неоскорбительные'''\n",
    "\n",
    "for c in df[df[\"toxic\"] == 0][\"comment\"].head(5):\n",
    "    print(c)"
   ]
  },
  {
   "cell_type": "code",
   "execution_count": 10,
   "metadata": {},
   "outputs": [],
   "source": [
    "'''Разделим датафрейм на тренировочную и тестовую выборки'''\n",
    "\n",
    "train_df, test_df = train_test_split(df, test_size=0.3, random_state=42)"
   ]
  },
  {
   "cell_type": "code",
   "execution_count": 11,
   "metadata": {},
   "outputs": [
    {
     "data": {
      "text/plain": [
       "(4324, 2)"
      ]
     },
     "execution_count": 11,
     "metadata": {},
     "output_type": "execute_result"
    }
   ],
   "source": [
    "test_df.shape"
   ]
  },
  {
   "cell_type": "code",
   "execution_count": 12,
   "metadata": {},
   "outputs": [
    {
     "data": {
      "text/plain": [
       "0    2906\n",
       "1    1418\n",
       "Name: toxic, dtype: int64"
      ]
     },
     "execution_count": 12,
     "metadata": {},
     "output_type": "execute_result"
    }
   ],
   "source": [
    "test_df[\"toxic\"].value_counts()"
   ]
  },
  {
   "cell_type": "code",
   "execution_count": 13,
   "metadata": {},
   "outputs": [
    {
     "data": {
      "text/plain": [
       "0    6680\n",
       "1    3408\n",
       "Name: toxic, dtype: int64"
      ]
     },
     "execution_count": 13,
     "metadata": {},
     "output_type": "execute_result"
    }
   ],
   "source": [
    "train_df[\"toxic\"].value_counts()"
   ]
  },
  {
   "cell_type": "markdown",
   "metadata": {},
   "source": [
    "Соотношение классов примерно соответствует соотношению в датафрейме df."
   ]
  },
  {
   "cell_type": "code",
   "execution_count": 14,
   "metadata": {},
   "outputs": [],
   "source": [
    "'''Преобразум текст каждого комментария в вектор, убрав знаки пунктуации и стоп-слова, а также применим стемминг'''\n",
    "\n",
    "snowball = SnowballStemmer(language=\"russian\")\n",
    "russian_stop_words = stopwords.words(\"russian\")\n",
    "\n",
    "def tokenize_sentence(sentence: str, remove_stop_words: bool = True):\n",
    "    tokens = word_tokenize(sentence, language=\"russian\")\n",
    "    tokens = [i for i in tokens if i not in string.punctuation]\n",
    "    if remove_stop_words:\n",
    "        tokens = [i for i in tokens if i not in russian_stop_words]\n",
    "    tokens = [snowball.stem(i) for i in tokens]\n",
    "    return tokens"
   ]
  },
  {
   "cell_type": "code",
   "execution_count": 15,
   "metadata": {},
   "outputs": [
    {
     "data": {
      "text/plain": [
       "['хохл',\n",
       " 'эт',\n",
       " 'отдушин',\n",
       " 'затюкан',\n",
       " 'россиянин',\n",
       " 'мол',\n",
       " 'вон',\n",
       " 'хохл',\n",
       " 'хуж',\n",
       " 'есл',\n",
       " 'хохл',\n",
       " 'кисел',\n",
       " 'придума']"
      ]
     },
     "execution_count": 15,
     "metadata": {},
     "output_type": "execute_result"
    }
   ],
   "source": [
    "sentence_example = df.iloc[1][\"comment\"]\n",
    "\n",
    "tokenize_sentence(sentence_example)"
   ]
  },
  {
   "cell_type": "code",
   "execution_count": 16,
   "metadata": {},
   "outputs": [],
   "source": [
    "'''Применим TF-IDF векторизацию'''\n",
    "\n",
    "vectorizer = TfidfVectorizer(tokenizer=lambda x: tokenize_sentence(x, remove_stop_words=True))"
   ]
  },
  {
   "cell_type": "code",
   "execution_count": 17,
   "metadata": {},
   "outputs": [
    {
     "data": {
      "text/plain": [
       "LogisticRegression(random_state=0)"
      ]
     },
     "execution_count": 17,
     "metadata": {},
     "output_type": "execute_result"
    }
   ],
   "source": [
    "'''Обучим полученную модель'''\n",
    "\n",
    "features = vectorizer.fit_transform(train_df[\"comment\"])\n",
    "\n",
    "model = LogisticRegression(random_state=0)\n",
    "model.fit(features, train_df[\"toxic\"])"
   ]
  },
  {
   "cell_type": "code",
   "execution_count": 18,
   "metadata": {},
   "outputs": [
    {
     "data": {
      "text/plain": [
       "array([0], dtype=int64)"
      ]
     },
     "execution_count": 18,
     "metadata": {},
     "output_type": "execute_result"
    }
   ],
   "source": [
    "'''Проверим полученную модель'''\n",
    "\n",
    "model.predict(features[0])"
   ]
  },
  {
   "cell_type": "code",
   "execution_count": 19,
   "metadata": {},
   "outputs": [
    {
     "data": {
      "text/plain": [
       "'Вышел покурить на балкон, а тут Ын курит. Постояли, покурили.\\n'"
      ]
     },
     "execution_count": 19,
     "metadata": {},
     "output_type": "execute_result"
    }
   ],
   "source": [
    "train_df[\"comment\"].iloc[0]"
   ]
  },
  {
   "cell_type": "markdown",
   "metadata": {},
   "source": [
    "Предсказанный класс действительно оказался токсичным."
   ]
  },
  {
   "cell_type": "code",
   "execution_count": 20,
   "metadata": {},
   "outputs": [],
   "source": [
    "'''Создадим конвейер для обработки комментариев с применением модели'''\n",
    "\n",
    "model_pipeline = Pipeline([\n",
    "    (\"vectorizer\", TfidfVectorizer(tokenizer=lambda x: tokenize_sentence(x, remove_stop_words=True))),\n",
    "    (\"model\", LogisticRegression(random_state=0))])"
   ]
  },
  {
   "cell_type": "code",
   "execution_count": 21,
   "metadata": {},
   "outputs": [
    {
     "data": {
      "text/plain": [
       "Pipeline(steps=[('vectorizer',\n",
       "                 TfidfVectorizer(tokenizer=<function <lambda> at 0x000001E2F34B6A60>)),\n",
       "                ('model', LogisticRegression(random_state=0))])"
      ]
     },
     "execution_count": 21,
     "metadata": {},
     "output_type": "execute_result"
    }
   ],
   "source": [
    "'''Обучим конвейер'''\n",
    "\n",
    "model_pipeline.fit(train_df[\"comment\"], train_df[\"toxic\"])"
   ]
  },
  {
   "cell_type": "code",
   "execution_count": 22,
   "metadata": {},
   "outputs": [
    {
     "data": {
      "text/plain": [
       "0.8936605316973415"
      ]
     },
     "execution_count": 22,
     "metadata": {},
     "output_type": "execute_result"
    }
   ],
   "source": [
    "'''Вычислим точнсть предсказаний модели'''\n",
    "\n",
    "precision_score(y_true=test_df[\"toxic\"], y_pred=model_pipeline.predict(test_df[\"comment\"]))"
   ]
  },
  {
   "cell_type": "code",
   "execution_count": 23,
   "metadata": {},
   "outputs": [
    {
     "data": {
      "text/plain": [
       "0.616361071932299"
      ]
     },
     "execution_count": 23,
     "metadata": {},
     "output_type": "execute_result"
    }
   ],
   "source": [
    "'''Вычислим полноту предсказаний модели'''\n",
    "\n",
    "recall_score(y_true=test_df[\"toxic\"], y_pred=model_pipeline.predict(test_df[\"comment\"]))"
   ]
  },
  {
   "cell_type": "code",
   "execution_count": 24,
   "metadata": {},
   "outputs": [],
   "source": [
    "prec, rec, thresholds = precision_recall_curve(y_true=test_df[\"toxic\"], probas_pred=model_pipeline.predict_proba(test_df[\"comment\"])[:, 1])"
   ]
  },
  {
   "cell_type": "code",
   "execution_count": 25,
   "metadata": {},
   "outputs": [
    {
     "data": {
      "text/plain": [
       "<sklearn.metrics._plot.precision_recall_curve.PrecisionRecallDisplay at 0x1e2f1f30760>"
      ]
     },
     "execution_count": 25,
     "metadata": {},
     "output_type": "execute_result"
    },
    {
     "data": {
      "image/png": "[encoded data removed]",
      "text/plain": [
       "<Figure size 432x288 with 1 Axes>"
      ]
     },
     "metadata": {
      "needs_background": "light"
     },
     "output_type": "display_data"
    }
   ],
   "source": [
    "'''Визуализируем полученные метрики'''\n",
    "\n",
    "plot_precision_recall_curve(estimator=model_pipeline, X=test_df[\"comment\"], y=test_df[\"toxic\"])"
   ]
  },
  {
   "cell_type": "code",
   "execution_count": 26,
   "metadata": {},
   "outputs": [
    {
     "data": {
      "text/plain": [
       "(array([3358, 3359, 3360, 3361, 3362, 3363, 3364, 3365, 3366, 3367, 3368,\n",
       "        3369, 3370, 3371, 3372, 3373, 3377, 3378, 3379, 3380, 3381, 3382,\n",
       "        3383, 3384, 3385, 3386, 3387, 3388, 3389, 3390, 3391, 3392, 3393,\n",
       "        3394, 3395, 3396, 3397, 3398, 3399, 3400, 3401, 3402, 3403, 3404,\n",
       "        3405, 3406, 3407, 3408, 3409, 3410, 3411, 3412, 3413, 3414, 3415,\n",
       "        3416, 3417, 3418, 3419, 3420, 3421, 3422, 3423, 3424, 3425, 3426,\n",
       "        3427, 3428, 3429, 3430, 3431, 3432, 3433, 3434, 3435, 3436, 3437,\n",
       "        3438, 3439, 3440, 3441, 3442, 3443, 3444, 3445, 3446, 3447, 3448,\n",
       "        3449, 3450, 3451, 3452, 3453, 3454, 3455, 3456, 3457, 3458, 3459,\n",
       "        3460, 3461, 3462, 3463, 3464, 3465, 3466, 3467, 3468, 3469, 3470,\n",
       "        3471, 3472, 3473, 3474, 3475, 3476, 3477, 3478, 3479, 3480, 3481,\n",
       "        3482, 3483, 3484, 3485, 3486, 3487, 3488, 3489, 3490, 3491, 3492,\n",
       "        3493, 3494, 3495, 3496, 3497, 3498, 3499, 3500, 3501, 3502, 3503,\n",
       "        3504, 3505, 3506, 3507, 3508, 3509, 3510, 3511, 3512, 3513, 3514,\n",
       "        3515, 3516, 3517, 3518, 3519, 3520, 3521, 3522, 3523, 3524, 3525,\n",
       "        3526, 3527, 3528, 3529, 3530, 3531, 3532, 3533, 3534, 3535, 3536,\n",
       "        3537, 3538, 3539, 3540, 3541, 3542, 3543, 3544, 3545, 3546, 3547,\n",
       "        3548, 3549, 3550, 3551, 3552, 3553, 3554, 3555, 3556, 3557, 3558,\n",
       "        3559, 3560, 3561, 3562, 3563, 3564, 3565, 3566, 3567, 3568, 3569,\n",
       "        3570, 3571, 3572, 3573, 3574, 3575, 3576, 3577, 3578, 3579, 3580,\n",
       "        3581, 3582, 3583, 3584, 3585, 3586, 3587, 3588, 3589, 3590, 3591,\n",
       "        3592, 3593, 3594, 3595, 3596, 3597, 3598, 3599, 3600, 3601, 3602,\n",
       "        3603, 3604, 3605, 3606, 3607, 3608, 3609, 3610, 3611, 3612, 3613,\n",
       "        3614, 3615, 3616, 3617, 3618, 3619, 3620, 3621, 3622, 3623, 3624,\n",
       "        3625, 3626, 3627, 3628, 3629, 3630, 3631, 3632, 3633, 3634, 3635,\n",
       "        3636, 3637, 3638, 3639, 3640, 3641, 3642, 3643, 3644, 3645, 3646,\n",
       "        3647, 3648, 3649, 3650, 3651, 3652, 3653, 3654, 3655, 3656, 3657,\n",
       "        3658, 3659, 3660, 3661, 3662, 3663, 3664, 3665, 3666, 3667, 3668,\n",
       "        3669, 3670, 3671, 3672, 3673, 3674, 3675, 3676, 3677, 3678, 3679,\n",
       "        3680, 3681, 3682, 3683, 3684, 3685, 3686, 3687, 3688, 3689, 3690,\n",
       "        3691, 3692, 3693, 3694, 3695, 3696, 3697, 3698, 3699, 3700, 3701,\n",
       "        3702, 3703, 3704, 3705, 3706, 3707, 3708, 3709, 3710, 3711, 3712,\n",
       "        3713, 3714, 3715, 3716, 3717, 3718, 3719, 3720, 3721, 3722, 3723,\n",
       "        3724, 3725, 3726, 3727, 3728, 3729, 3730, 3731, 3732, 3733, 3734,\n",
       "        3735, 3736, 3737, 3738, 3739, 3740, 3741, 3742, 3743, 3744, 3745,\n",
       "        3746, 3747, 3748, 3749, 3750, 3751, 3752, 3753, 3754, 3755, 3756,\n",
       "        3757, 3758, 3759, 3760, 3761, 3762, 3763, 3764, 3765, 3766, 3767,\n",
       "        3768, 3769, 3770, 3771, 3772, 3773, 3774, 3775, 3776, 3777, 3778,\n",
       "        3779, 3780, 3781, 3782, 3783, 3784, 3785, 3786, 3787, 3788, 3789,\n",
       "        3790, 3791, 3792, 3793, 3794, 3795, 3796, 3797, 3798, 3799, 3800,\n",
       "        3801, 3802, 3803, 3804, 3805, 3806, 3807, 3808, 3809, 3810, 3811,\n",
       "        3812, 3813, 3814, 3815, 3816, 3817, 3818, 3819, 3820, 3821, 3822,\n",
       "        3823, 3824, 3825, 3826, 3827, 3828, 3829, 3830, 3831, 3832, 3833,\n",
       "        3834, 3835, 3836, 3837, 3838, 3839, 3840, 3841, 3842, 3843, 3844,\n",
       "        3845, 3846, 3847, 3848, 3849, 3850, 3851, 3852, 3853, 3854, 3855,\n",
       "        3856, 3857, 3858, 3859, 3860, 3861, 3862, 3863, 3864, 3865, 3866,\n",
       "        3867, 3868, 3869, 3870, 3871, 3872, 3873, 3874, 3875, 3876, 3877,\n",
       "        3878, 3879, 3880, 3881, 3882, 3883, 3884, 3885, 3886, 3887, 3888,\n",
       "        3889, 3890, 3891, 3892, 3893, 3894, 3895, 3896, 3897, 3898, 3899,\n",
       "        3900, 3901, 3902, 3903, 3904, 3905, 3906, 3907, 3908, 3909, 3910,\n",
       "        3911, 3912, 3913, 3914, 3915, 3916, 3917, 3918, 3919, 3920, 3921,\n",
       "        3922, 3923, 3924, 3925, 3926, 3927, 3928, 3929, 3930, 3931, 3932,\n",
       "        3933, 3934, 3935, 3936, 3937, 3938, 3939, 3940, 3941, 3942, 3943,\n",
       "        3944, 3945, 3946, 3947, 3948, 3949, 3950, 3951, 3952, 3953, 3954,\n",
       "        3955, 3956, 3957, 3958, 3959, 3960, 3961, 3962, 3963, 3964, 3965,\n",
       "        3966, 3967, 3968, 3969, 3970, 3971, 3972, 3973, 3974, 3975, 3976,\n",
       "        3977, 3978, 3979, 3980, 3981, 3982, 3983, 3984, 3985, 3986, 3987,\n",
       "        3988, 3989, 3990, 3991, 3992, 3993, 3994, 3995, 3996, 3997, 3998,\n",
       "        3999, 4000, 4001, 4002, 4003, 4004, 4005, 4006, 4007, 4008, 4009,\n",
       "        4010, 4011, 4012, 4013, 4014, 4015, 4016, 4017, 4018, 4019, 4020,\n",
       "        4021, 4022, 4023, 4024, 4025, 4026, 4027, 4028, 4029, 4030, 4031,\n",
       "        4032, 4033, 4034, 4035, 4036, 4037, 4038, 4039, 4040, 4041, 4042,\n",
       "        4043, 4044, 4045, 4046, 4047, 4048, 4049, 4050, 4051, 4052, 4053,\n",
       "        4054, 4055, 4056, 4057, 4058, 4059, 4060, 4061, 4062, 4063, 4064,\n",
       "        4065, 4066, 4067, 4068, 4069, 4070, 4071, 4072, 4073, 4074, 4075,\n",
       "        4076, 4077, 4078, 4079, 4080, 4081, 4082, 4083, 4084, 4085, 4086,\n",
       "        4087, 4088, 4089, 4090, 4091, 4092, 4093, 4094, 4095, 4096, 4097,\n",
       "        4098, 4099, 4100, 4101, 4102, 4103, 4104, 4105, 4106, 4107, 4108,\n",
       "        4109, 4110, 4111, 4112, 4113, 4114, 4115, 4116, 4117, 4118, 4119,\n",
       "        4120, 4121, 4122, 4123, 4124, 4125, 4126, 4127, 4128, 4129, 4130,\n",
       "        4131, 4132, 4133, 4134, 4135, 4136, 4137, 4138, 4139, 4140, 4141,\n",
       "        4142, 4143, 4144, 4145, 4146, 4147, 4148, 4149, 4150, 4151, 4152,\n",
       "        4153, 4154, 4155, 4156, 4157, 4158, 4159, 4160, 4161, 4162, 4163,\n",
       "        4164, 4165, 4166, 4167, 4168, 4169, 4170, 4171, 4172, 4173, 4174,\n",
       "        4175, 4176, 4177, 4178, 4179, 4180, 4181, 4182, 4183, 4184, 4185,\n",
       "        4186, 4187, 4188, 4189, 4190, 4191, 4192, 4193, 4194, 4195, 4196,\n",
       "        4197, 4198, 4199, 4200, 4201, 4202, 4203, 4204, 4205, 4206, 4207,\n",
       "        4208, 4209, 4210, 4211, 4212, 4213, 4214, 4215, 4216, 4217, 4218,\n",
       "        4219, 4220, 4221, 4222, 4223, 4224, 4225, 4226, 4227, 4228, 4229,\n",
       "        4230, 4231, 4232, 4233, 4234, 4235, 4236, 4237, 4238, 4239, 4240,\n",
       "        4241, 4242, 4243, 4244, 4245, 4246, 4247, 4248, 4249, 4250, 4251,\n",
       "        4252, 4253, 4254, 4255, 4256, 4257, 4258, 4259, 4260, 4261, 4262,\n",
       "        4263, 4264, 4265, 4266, 4267], dtype=int64),)"
      ]
     },
     "execution_count": 26,
     "metadata": {},
     "output_type": "execute_result"
    }
   ],
   "source": [
    "'''Определим порог, при котором точность модели выше 90%'''\n",
    "\n",
    "np.where(prec > 0.9)"
   ]
  },
  {
   "cell_type": "code",
   "execution_count": 27,
   "metadata": {},
   "outputs": [
    {
     "data": {
      "text/plain": [
       "0.5183315113973129"
      ]
     },
     "execution_count": 27,
     "metadata": {},
     "output_type": "execute_result"
    }
   ],
   "source": [
    "thresholds[3358]"
   ]
  },
  {
   "cell_type": "code",
   "execution_count": 28,
   "metadata": {},
   "outputs": [
    {
     "data": {
      "text/plain": [
       "0.9005464480874317"
      ]
     },
     "execution_count": 28,
     "metadata": {},
     "output_type": "execute_result"
    }
   ],
   "source": [
    "precision_score(y_true=test_df[\"toxic\"], y_pred=model_pipeline.predict_proba(test_df[\"comment\"])[:, 1] > thresholds[3358])"
   ]
  },
  {
   "cell_type": "code",
   "execution_count": 29,
   "metadata": {},
   "outputs": [
    {
     "data": {
      "text/plain": [
       "0.5811001410437235"
      ]
     },
     "execution_count": 29,
     "metadata": {},
     "output_type": "execute_result"
    }
   ],
   "source": [
    "recall_score(y_true=test_df[\"toxic\"], y_pred=model_pipeline.predict_proba(test_df[\"comment\"])[:, 1] > thresholds[3358])"
   ]
  },
  {
   "cell_type": "code",
   "execution_count": 30,
   "metadata": {},
   "outputs": [],
   "source": [
    "'''Попробуем подобрать оптимальные гиперпараметр логистической регресси (коэффициент регуляризации),\n",
    "добавив в pipeline GridSearch'''\n",
    "\n",
    "grid_pipeline = Pipeline([\n",
    "    (\"vectorizer\", TfidfVectorizer(tokenizer=lambda x: tokenize_sentence(x, remove_stop_words=True))),\n",
    "    (\"model\", \n",
    "     GridSearchCV(\n",
    "        LogisticRegression(random_state=0),\n",
    "        param_grid={'C': [0.1, 1, 10.]},\n",
    "        cv=3,\n",
    "         verbose=4\n",
    "        )\n",
    "    )\n",
    "])"
   ]
  },
  {
   "cell_type": "code",
   "execution_count": 31,
   "metadata": {},
   "outputs": [
    {
     "name": "stdout",
     "output_type": "stream",
     "text": [
      "Fitting 3 folds for each of 3 candidates, totalling 9 fits\n",
      "[CV] C=0.1 ...........................................................\n",
      "[CV] ............................... C=0.1, score=0.676, total=   0.1s\n",
      "[CV] C=0.1 ...........................................................\n"
     ]
    },
    {
     "name": "stderr",
     "output_type": "stream",
     "text": [
      "[Parallel(n_jobs=1)]: Using backend SequentialBackend with 1 concurrent workers.\n",
      "[Parallel(n_jobs=1)]: Done   1 out of   1 | elapsed:    0.0s remaining:    0.0s\n"
     ]
    },
    {
     "name": "stdout",
     "output_type": "stream",
     "text": [
      "[CV] ............................... C=0.1, score=0.672, total=   0.2s\n",
      "[CV] C=0.1 ...........................................................\n",
      "[CV] ............................... C=0.1, score=0.672, total=   0.1s\n",
      "[CV] C=1 .............................................................\n"
     ]
    },
    {
     "name": "stderr",
     "output_type": "stream",
     "text": [
      "[Parallel(n_jobs=1)]: Done   2 out of   2 | elapsed:    0.2s remaining:    0.0s\n",
      "[Parallel(n_jobs=1)]: Done   3 out of   3 | elapsed:    0.4s remaining:    0.0s\n"
     ]
    },
    {
     "name": "stdout",
     "output_type": "stream",
     "text": [
      "[CV] ................................. C=1, score=0.829, total=   0.4s\n",
      "[CV] C=1 .............................................................\n",
      "[CV] ................................. C=1, score=0.825, total=   0.3s\n",
      "[CV] C=1 .............................................................\n",
      "[CV] ................................. C=1, score=0.815, total=   0.4s\n",
      "[CV] C=10.0 ..........................................................\n"
     ]
    },
    {
     "name": "stderr",
     "output_type": "stream",
     "text": [
      "C:\\Users\\79609\\anaconda3\\lib\\site-packages\\sklearn\\linear_model\\_logistic.py:762: ConvergenceWarning: lbfgs failed to converge (status=1):\n",
      "STOP: TOTAL NO. of ITERATIONS REACHED LIMIT.\n",
      "\n",
      "Increase the number of iterations (max_iter) or scale the data as shown in:\n",
      "    https://scikit-learn.org/stable/modules/preprocessing.html\n",
      "Please also refer to the documentation for alternative solver options:\n",
      "    https://scikit-learn.org/stable/modules/linear_model.html#logistic-regression\n",
      "  n_iter_i = _check_optimize_result(\n"
     ]
    },
    {
     "name": "stdout",
     "output_type": "stream",
     "text": [
      "[CV] .............................. C=10.0, score=0.854, total=   0.6s\n",
      "[CV] C=10.0 ..........................................................\n"
     ]
    },
    {
     "name": "stderr",
     "output_type": "stream",
     "text": [
      "C:\\Users\\79609\\anaconda3\\lib\\site-packages\\sklearn\\linear_model\\_logistic.py:762: ConvergenceWarning: lbfgs failed to converge (status=1):\n",
      "STOP: TOTAL NO. of ITERATIONS REACHED LIMIT.\n",
      "\n",
      "Increase the number of iterations (max_iter) or scale the data as shown in:\n",
      "    https://scikit-learn.org/stable/modules/preprocessing.html\n",
      "Please also refer to the documentation for alternative solver options:\n",
      "    https://scikit-learn.org/stable/modules/linear_model.html#logistic-regression\n",
      "  n_iter_i = _check_optimize_result(\n"
     ]
    },
    {
     "name": "stdout",
     "output_type": "stream",
     "text": [
      "[CV] .............................. C=10.0, score=0.861, total=   0.5s\n",
      "[CV] C=10.0 ..........................................................\n"
     ]
    },
    {
     "name": "stderr",
     "output_type": "stream",
     "text": [
      "C:\\Users\\79609\\anaconda3\\lib\\site-packages\\sklearn\\linear_model\\_logistic.py:762: ConvergenceWarning: lbfgs failed to converge (status=1):\n",
      "STOP: TOTAL NO. of ITERATIONS REACHED LIMIT.\n",
      "\n",
      "Increase the number of iterations (max_iter) or scale the data as shown in:\n",
      "    https://scikit-learn.org/stable/modules/preprocessing.html\n",
      "Please also refer to the documentation for alternative solver options:\n",
      "    https://scikit-learn.org/stable/modules/linear_model.html#logistic-regression\n",
      "  n_iter_i = _check_optimize_result(\n",
      "[Parallel(n_jobs=1)]: Done   9 out of   9 | elapsed:    3.2s finished\n"
     ]
    },
    {
     "name": "stdout",
     "output_type": "stream",
     "text": [
      "[CV] .............................. C=10.0, score=0.861, total=   0.6s\n"
     ]
    },
    {
     "name": "stderr",
     "output_type": "stream",
     "text": [
      "C:\\Users\\79609\\anaconda3\\lib\\site-packages\\sklearn\\linear_model\\_logistic.py:762: ConvergenceWarning: lbfgs failed to converge (status=1):\n",
      "STOP: TOTAL NO. of ITERATIONS REACHED LIMIT.\n",
      "\n",
      "Increase the number of iterations (max_iter) or scale the data as shown in:\n",
      "    https://scikit-learn.org/stable/modules/preprocessing.html\n",
      "Please also refer to the documentation for alternative solver options:\n",
      "    https://scikit-learn.org/stable/modules/linear_model.html#logistic-regression\n",
      "  n_iter_i = _check_optimize_result(\n"
     ]
    },
    {
     "data": {
      "text/plain": [
       "Pipeline(steps=[('vectorizer',\n",
       "                 TfidfVectorizer(tokenizer=<function <lambda> at 0x000001E2F3D2E3A0>)),\n",
       "                ('model',\n",
       "                 GridSearchCV(cv=3,\n",
       "                              estimator=LogisticRegression(random_state=0),\n",
       "                              param_grid={'C': [0.1, 1, 10.0]}, verbose=4))])"
      ]
     },
     "execution_count": 31,
     "metadata": {},
     "output_type": "execute_result"
    }
   ],
   "source": [
    "grid_pipeline.fit(train_df[\"comment\"], train_df[\"toxic\"])"
   ]
  },
  {
   "cell_type": "markdown",
   "metadata": {},
   "source": [
    "Наилучший показатель был достигнут при С=10."
   ]
  },
  {
   "cell_type": "code",
   "execution_count": 32,
   "metadata": {},
   "outputs": [],
   "source": [
    "'''Создадим новую модель со значением регуляризации равным 10'''\n",
    "\n",
    "model_pipeline_c_10 = Pipeline([\n",
    "    (\"vectorizer\", TfidfVectorizer(tokenizer=lambda x: tokenize_sentence(x, remove_stop_words=True))),\n",
    "    (\"model\", LogisticRegression(random_state=0, C=10.))])"
   ]
  },
  {
   "cell_type": "code",
   "execution_count": 33,
   "metadata": {},
   "outputs": [
    {
     "name": "stderr",
     "output_type": "stream",
     "text": [
      "C:\\Users\\79609\\anaconda3\\lib\\site-packages\\sklearn\\linear_model\\_logistic.py:762: ConvergenceWarning: lbfgs failed to converge (status=1):\n",
      "STOP: TOTAL NO. of ITERATIONS REACHED LIMIT.\n",
      "\n",
      "Increase the number of iterations (max_iter) or scale the data as shown in:\n",
      "    https://scikit-learn.org/stable/modules/preprocessing.html\n",
      "Please also refer to the documentation for alternative solver options:\n",
      "    https://scikit-learn.org/stable/modules/linear_model.html#logistic-regression\n",
      "  n_iter_i = _check_optimize_result(\n"
     ]
    },
    {
     "data": {
      "text/plain": [
       "Pipeline(steps=[('vectorizer',\n",
       "                 TfidfVectorizer(tokenizer=<function <lambda> at 0x000001E2F4368310>)),\n",
       "                ('model', LogisticRegression(C=10.0, random_state=0))])"
      ]
     },
     "execution_count": 33,
     "metadata": {},
     "output_type": "execute_result"
    }
   ],
   "source": [
    "model_pipeline_c_10.fit(train_df[\"comment\"], train_df[\"toxic\"])"
   ]
  },
  {
   "cell_type": "code",
   "execution_count": 34,
   "metadata": {},
   "outputs": [],
   "source": [
    "prec_c_10, rec_c_10, thresholds_c_10 = precision_recall_curve(y_true=test_df[\"toxic\"], probas_pred=model_pipeline_c_10.predict_proba(test_df[\"comment\"])[:, 1])"
   ]
  },
  {
   "cell_type": "code",
   "execution_count": 35,
   "metadata": {},
   "outputs": [
    {
     "data": {
      "text/plain": [
       "(array([3309, 3310, 3311, 3312, 3316, 3317, 3318, 3319, 3320, 3321, 3322,\n",
       "        3323, 3324, 3325, 3326, 3327, 3328, 3329, 3330, 3331, 3332, 3333,\n",
       "        3334, 3335, 3336, 3337, 3338, 3339, 3340, 3341, 3342, 3343, 3344,\n",
       "        3345, 3346, 3347, 3348, 3349, 3350, 3351, 3352, 3353, 3354, 3355,\n",
       "        3356, 3357, 3358, 3359, 3360, 3361, 3362, 3363, 3364, 3365, 3366,\n",
       "        3367, 3368, 3369, 3370, 3371, 3372, 3373, 3374, 3375, 3376, 3377,\n",
       "        3378, 3379, 3380, 3381, 3382, 3383, 3384, 3385, 3386, 3387, 3388,\n",
       "        3389, 3390, 3391, 3392, 3393, 3394, 3395, 3396, 3397, 3398, 3399,\n",
       "        3400, 3401, 3402, 3403, 3404, 3405, 3406, 3407, 3408, 3409, 3410,\n",
       "        3411, 3412, 3413, 3414, 3415, 3416, 3417, 3418, 3419, 3420, 3421,\n",
       "        3422, 3423, 3424, 3425, 3426, 3427, 3428, 3429, 3430, 3431, 3432,\n",
       "        3433, 3434, 3435, 3436, 3437, 3438, 3439, 3440, 3441, 3442, 3443,\n",
       "        3444, 3445, 3446, 3447, 3448, 3449, 3450, 3451, 3452, 3453, 3454,\n",
       "        3455, 3456, 3457, 3458, 3459, 3460, 3461, 3462, 3463, 3464, 3465,\n",
       "        3466, 3467, 3468, 3469, 3470, 3471, 3472, 3473, 3474, 3475, 3476,\n",
       "        3477, 3478, 3479, 3480, 3481, 3482, 3483, 3484, 3485, 3486, 3487,\n",
       "        3488, 3489, 3490, 3491, 3492, 3493, 3494, 3495, 3496, 3497, 3498,\n",
       "        3499, 3500, 3501, 3502, 3503, 3504, 3505, 3506, 3507, 3508, 3509,\n",
       "        3510, 3511, 3512, 3513, 3514, 3515, 3516, 3517, 3518, 3519, 3520,\n",
       "        3521, 3522, 3523, 3524, 3525, 3526, 3527, 3528, 3529, 3530, 3531,\n",
       "        3532, 3533, 3534, 3535, 3536, 3537, 3538, 3539, 3540, 3541, 3542,\n",
       "        3543, 3544, 3545, 3546, 3547, 3548, 3549, 3550, 3551, 3552, 3553,\n",
       "        3554, 3555, 3556, 3557, 3558, 3559, 3560, 3561, 3562, 3563, 3564,\n",
       "        3565, 3566, 3567, 3568, 3569, 3570, 3571, 3572, 3573, 3574, 3575,\n",
       "        3576, 3577, 3578, 3579, 3580, 3581, 3582, 3583, 3584, 3585, 3586,\n",
       "        3587, 3588, 3589, 3590, 3591, 3592, 3593, 3594, 3595, 3596, 3597,\n",
       "        3598, 3599, 3600, 3601, 3602, 3603, 3604, 3605, 3606, 3607, 3608,\n",
       "        3609, 3610, 3611, 3612, 3613, 3614, 3615, 3616, 3617, 3618, 3619,\n",
       "        3620, 3621, 3622, 3623, 3624, 3625, 3626, 3627, 3628, 3629, 3630,\n",
       "        3631, 3632, 3633, 3634, 3635, 3636, 3637, 3638, 3639, 3640, 3641,\n",
       "        3642, 3643, 3644, 3645, 3646, 3647, 3648, 3649, 3650, 3651, 3652,\n",
       "        3653, 3654, 3655, 3656, 3657, 3658, 3659, 3660, 3661, 3662, 3663,\n",
       "        3664, 3665, 3666, 3667, 3668, 3669, 3670, 3671, 3672, 3673, 3674,\n",
       "        3675, 3676, 3677, 3678, 3679, 3680, 3681, 3682, 3683, 3684, 3685,\n",
       "        3686, 3687, 3688, 3689, 3690, 3691, 3692, 3693, 3694, 3695, 3696,\n",
       "        3697, 3698, 3699, 3700, 3701, 3702, 3703, 3704, 3705, 3706, 3707,\n",
       "        3708, 3709, 3710, 3711, 3712, 3713, 3714, 3715, 3716, 3717, 3718,\n",
       "        3719, 3720, 3721, 3722, 3723, 3724, 3725, 3726, 3727, 3728, 3729,\n",
       "        3730, 3731, 3732, 3733, 3734, 3735, 3736, 3737, 3738, 3739, 3740,\n",
       "        3741, 3742, 3743, 3744, 3745, 3746, 3747, 3748, 3749, 3750, 3751,\n",
       "        3752, 3753, 3754, 3755, 3756, 3757, 3758, 3759, 3760, 3761, 3762,\n",
       "        3763, 3764, 3765, 3766, 3767, 3768, 3769, 3770, 3771, 3772, 3773,\n",
       "        3774, 3775, 3776, 3777, 3778, 3779, 3780, 3781, 3782, 3783, 3784,\n",
       "        3785, 3786, 3787, 3788, 3789, 3790, 3791, 3792, 3793, 3794, 3795,\n",
       "        3796, 3797, 3798, 3799, 3800, 3801, 3802, 3803, 3804, 3805, 3806,\n",
       "        3807, 3808, 3809, 3810, 3811, 3812, 3813, 3814, 3815, 3816, 3817,\n",
       "        3818, 3819, 3820, 3821, 3822, 3823, 3824, 3825, 3826, 3827, 3828,\n",
       "        3829, 3830, 3831, 3832, 3833, 3834, 3835, 3836, 3837, 3838, 3839,\n",
       "        3840, 3841, 3842, 3843, 3844, 3845, 3846, 3847, 3848, 3849, 3850,\n",
       "        3851, 3852, 3853, 3854, 3855, 3856, 3857, 3858, 3859, 3860, 3861,\n",
       "        3862, 3863, 3864, 3865, 3866, 3867, 3868, 3869, 3870, 3871, 3872,\n",
       "        3873, 3874, 3875, 3876, 3877, 3878, 3879, 3880, 3881, 3882, 3883,\n",
       "        3884, 3885, 3886, 3887, 3888, 3889, 3890, 3891, 3892, 3893, 3894,\n",
       "        3895, 3896, 3897, 3898, 3899, 3900, 3901, 3902, 3903, 3904, 3905,\n",
       "        3906, 3907, 3908, 3909, 3910, 3911, 3912, 3913, 3914, 3915, 3916,\n",
       "        3917, 3918, 3919, 3920, 3921, 3922, 3923, 3924, 3925, 3926, 3927,\n",
       "        3928, 3929, 3930, 3931, 3932, 3933, 3934, 3935, 3936, 3937, 3938,\n",
       "        3939, 3940, 3941, 3942, 3943, 3944, 3945, 3946, 3947, 3948, 3949,\n",
       "        3950, 3951, 3952, 3953, 3954, 3955, 3956, 3957, 3958, 3959, 3960,\n",
       "        3961, 3962, 3963, 3964, 3965, 3966, 3967, 3968, 3969, 3970, 3971,\n",
       "        3972, 3973, 3974, 3975, 3976, 3977, 3978, 3979, 3980, 3981, 3982,\n",
       "        3983, 3984, 3985, 3986, 3987, 3988, 3989, 3990, 3991, 3992, 3993,\n",
       "        3994, 3995, 3996, 3997, 3998, 3999, 4000, 4001, 4002, 4003, 4004,\n",
       "        4005, 4006, 4007, 4008, 4009, 4010, 4011, 4012, 4013, 4014, 4015,\n",
       "        4016, 4017, 4018, 4019, 4020, 4021, 4022, 4023, 4024, 4025, 4026,\n",
       "        4027, 4028, 4029, 4030, 4031, 4032, 4033, 4034, 4035, 4036, 4037,\n",
       "        4038, 4039, 4040, 4041, 4042, 4043, 4044, 4045, 4046, 4047, 4048,\n",
       "        4049, 4050, 4051, 4052, 4053, 4054, 4055, 4056, 4057, 4058, 4059,\n",
       "        4060, 4061, 4062, 4063, 4064, 4065, 4066, 4067, 4068, 4069, 4070,\n",
       "        4071, 4072, 4073, 4074, 4075, 4076, 4077, 4078, 4079, 4080, 4081,\n",
       "        4082, 4083, 4084, 4085, 4086, 4087, 4088, 4089, 4090, 4091, 4092,\n",
       "        4093, 4094, 4095, 4096, 4097, 4098, 4099, 4100, 4101, 4102, 4103,\n",
       "        4104, 4105, 4106, 4107, 4108, 4109, 4110, 4111, 4112, 4113, 4114,\n",
       "        4115, 4116, 4117, 4118, 4119, 4120, 4121, 4122, 4123, 4124, 4125,\n",
       "        4126, 4127, 4128, 4129, 4130, 4131, 4132, 4133, 4134, 4135, 4136,\n",
       "        4137, 4138, 4139, 4140, 4141, 4142, 4143, 4144, 4145, 4146, 4147,\n",
       "        4148, 4149, 4150, 4151, 4152, 4153, 4154, 4155, 4156, 4157, 4158,\n",
       "        4159, 4160, 4161, 4162, 4163, 4164, 4165, 4166, 4167, 4168, 4169,\n",
       "        4170, 4171, 4172, 4173, 4174, 4175, 4176, 4177, 4178, 4179, 4180,\n",
       "        4181, 4182, 4183, 4184, 4185, 4186, 4187, 4188, 4189, 4190, 4191,\n",
       "        4192, 4193, 4194, 4195, 4196, 4197, 4198, 4199, 4200, 4201, 4202,\n",
       "        4203, 4204, 4205, 4206, 4207, 4208, 4209, 4210, 4211, 4212, 4213,\n",
       "        4214, 4215, 4216, 4217, 4218, 4219, 4220, 4221, 4222, 4223, 4224,\n",
       "        4225, 4226, 4227, 4228, 4229, 4230, 4231, 4232, 4233, 4234, 4235,\n",
       "        4236, 4237, 4238, 4239, 4240, 4241, 4242, 4243, 4244, 4245, 4246,\n",
       "        4247, 4248, 4249, 4250, 4251, 4252, 4253, 4254, 4255, 4256, 4257],\n",
       "       dtype=int64),)"
      ]
     },
     "execution_count": 35,
     "metadata": {},
     "output_type": "execute_result"
    }
   ],
   "source": [
    "np.where(prec_c_10 > 0.90)"
   ]
  },
  {
   "cell_type": "code",
   "execution_count": 36,
   "metadata": {},
   "outputs": [
    {
     "data": {
      "text/plain": [
       "0.9003147953830011"
      ]
     },
     "execution_count": 36,
     "metadata": {},
     "output_type": "execute_result"
    }
   ],
   "source": [
    "precision_score(y_true=test_df[\"toxic\"], y_pred=model_pipeline_c_10.predict_proba(test_df[\"comment\"])[:, 1] > thresholds_c_10[3309])"
   ]
  },
  {
   "cell_type": "code",
   "execution_count": 37,
   "metadata": {},
   "outputs": [
    {
     "data": {
      "text/plain": [
       "0.6050775740479548"
      ]
     },
     "execution_count": 37,
     "metadata": {},
     "output_type": "execute_result"
    }
   ],
   "source": [
    "recall_score(y_true=test_df[\"toxic\"], y_pred=model_pipeline_c_10.predict_proba(test_df[\"comment\"])[:, 1] > thresholds_c_10[3309])"
   ]
  }
 ],
 "metadata": {
  "kernelspec": {
   "display_name": "Python 3",
   "language": "python",
   "name": "python3"
  },
  "language_info": {
   "codemirror_mode": {
    "name": "ipython",
    "version": 3
   },
   "file_extension": ".py",
   "mimetype": "text/x-python",
   "name": "python",
   "nbconvert_exporter": "python",
   "pygments_lexer": "ipython3",
   "version": "3.8.5"
  }
 },
 "nbformat": 4,
 "nbformat_minor": 4
}
