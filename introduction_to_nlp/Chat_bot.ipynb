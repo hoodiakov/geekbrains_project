{
 "cells": [
  {
   "cell_type": "code",
   "execution_count": null,
   "id": "704ba186",
   "metadata": {
    "id": "704ba186"
   },
   "outputs": [],
   "source": [
    "import numpy as np\n",
    "\n",
    "import pandas as pd\n",
    "\n",
    "from telegram.ext  import Updater, CommandHandler, MessageHandler, Filters, CallbackContext\n",
    "from telegram import Update\n",
    "\n",
    "from transformers import FSMTForConditionalGeneration, FSMTTokenizer\n",
    "\n",
    "import os\n",
    "\n",
    "import string\n",
    "\n",
    "from pymorphy2 import MorphAnalyzer\n",
    "\n",
    "from stop_words import get_stop_words\n",
    "\n",
    "import annoy\n",
    "\n",
    "from gensim.models import Word2Vec, FastText\n",
    "\n",
    "import pickle\n",
    "\n",
    "import re \n",
    "\n",
    "import spacy\n",
    "\n",
    "import requests\n",
    "\n",
    "import json\n",
    "\n",
    "from tqdm import tqdm_notebook"
   ]
  },
  {
   "cell_type": "markdown",
   "id": "c2dbd042",
   "metadata": {
    "id": "c2dbd042"
   },
   "source": [
    "## **Подготовка чат-бота.**"
   ]
  },
  {
   "cell_type": "markdown",
   "id": "K01EDAMwZ5Ki",
   "metadata": {
    "id": "K01EDAMwZ5Ki"
   },
   "source": [
    "**Препроцессинг.**"
   ]
  },
  {
   "cell_type": "code",
   "execution_count": null,
   "id": "0309058a",
   "metadata": {
    "id": "0309058a"
   },
   "outputs": [],
   "source": [
    "morpher = MorphAnalyzer()\n",
    "\n",
    "sw = set(get_stop_words(\"ru\"))\n",
    "\n",
    "exclude = set(string.punctuation)\n",
    "\n",
    "def preprocess_txt(line):\n",
    "    spls = \"\".join(i for i in line.strip() if i not in exclude).split()\n",
    "    spls = [morpher.parse(i.lower())[0].normal_form for i in spls]\n",
    "    spls = [i for i in spls if i not in sw and i != \"\"]\n",
    "    return spls"
   ]
  },
  {
   "cell_type": "code",
   "execution_count": null,
   "id": "2bde130d",
   "metadata": {
    "colab": {
     "referenced_widgets": [
      "86333f128a3346beab3c03ed3f55bd42"
     ]
    },
    "id": "2bde130d",
    "outputId": "9e92beb8-ae5c-4458-9396-645a3370c244"
   },
   "outputs": [
    {
     "name": "stderr",
     "output_type": "stream",
     "text": [
      "/var/folders/zn/6rz5gp7s0h702g118wcbvmkh0000gn/T/ipykernel_2321/3909113024.py:8: TqdmDeprecationWarning: This function will be removed in tqdm==5.0.0\n",
      "Please use `tqdm.notebook.tqdm` instead of `tqdm.tqdm_notebook`\n",
      "  for line in tqdm_notebook(f):\n"
     ]
    },
    {
     "data": {
      "application/vnd.jupyter.widget-view+json": {
       "model_id": "86333f128a3346beab3c03ed3f55bd42",
       "version_major": 2,
       "version_minor": 0
      },
      "text/plain": [
       "0it [00:00, ?it/s]"
      ]
     },
     "metadata": {},
     "output_type": "display_data"
    },
    {
     "data": {
      "text/plain": [
       "True"
      ]
     },
     "execution_count": 6,
     "metadata": {},
     "output_type": "execute_result"
    }
   ],
   "source": [
    "modelFT = FastText.load(\"ft_model\")\n",
    "\n",
    "ft_index = annoy.AnnoyIndex(100 ,'angular')\n",
    "\n",
    "index_map = {}\n",
    "\n",
    "counter = 0\n",
    "\n",
    "with open(\"dialogues.txt\", \"r\") as f:\n",
    "    for line in tqdm_notebook(f):\n",
    "        n_ft = 0\n",
    "        spls = line.split(\"\\t\")\n",
    "        index_map[counter] = spls[1]\n",
    "        question = preprocess_txt(spls[0])\n",
    "        vector_ft = np.zeros(100)\n",
    "        for word in question:\n",
    "            if word in modelFT.wv:\n",
    "                vector_ft += modelFT.wv[word]\n",
    "                n_ft += 1\n",
    "        if n_ft > 0:\n",
    "            vector_ft = vector_ft / n_ft\n",
    "        ft_index.add_item(counter, vector_ft)\n",
    "            \n",
    "        counter += 1\n",
    "\n",
    "ft_index.build(10)\n",
    "\n",
    "ft_index.save('speaker.ann')"
   ]
  },
  {
   "cell_type": "code",
   "execution_count": null,
   "id": "f082590f",
   "metadata": {
    "id": "f082590f",
    "outputId": "9829a9a0-6959-4e65-f5f4-845fd267167d"
   },
   "outputs": [
    {
     "data": {
      "text/plain": [
       "True"
      ]
     },
     "execution_count": 7,
     "metadata": {},
     "output_type": "execute_result"
    }
   ],
   "source": [
    "ft_index = annoy.AnnoyIndex(100, 'angular')\n",
    "\n",
    "ft_index.load('speaker.ann') "
   ]
  },
  {
   "cell_type": "code",
   "execution_count": null,
   "id": "e560ef57",
   "metadata": {
    "id": "e560ef57",
    "outputId": "905b8b61-7794-40e8-cb48-3e8de20ed3de"
   },
   "outputs": [
    {
     "data": {
      "text/plain": [
       "[11682, 18801]"
      ]
     },
     "execution_count": 8,
     "metadata": {},
     "output_type": "execute_result"
    }
   ],
   "source": [
    "ft_index.get_nns_by_vector(np.zeros(100), 2)"
   ]
  },
  {
   "cell_type": "code",
   "execution_count": null,
   "id": "33909b5f",
   "metadata": {
    "id": "33909b5f"
   },
   "outputs": [],
   "source": [
    "def embed_txt(txt, idfs, midf):\n",
    "    n_ft = 0\n",
    "    vector_ft = np.zeros(100)\n",
    "    for word in txt:\n",
    "        if word in modelFT.wv:\n",
    "            vector_ft += modelFT.wv[word] * 1 \n",
    "            n_ft += 1 \n",
    "    return vector_ft / n_ft"
   ]
  },
  {
   "cell_type": "markdown",
   "id": "3f673815",
   "metadata": {
    "id": "3f673815"
   },
   "source": [
    "**Проверка языка текста.**"
   ]
  },
  {
   "cell_type": "code",
   "execution_count": null,
   "id": "fd87792d",
   "metadata": {
    "id": "fd87792d"
   },
   "outputs": [],
   "source": [
    "def is_english(text):\n",
    "    return bool(re.search(r'[a-zA-Z]', text))"
   ]
  },
  {
   "cell_type": "code",
   "execution_count": null,
   "id": "87e55486",
   "metadata": {
    "id": "87e55486"
   },
   "outputs": [],
   "source": [
    "list_for_weather = ['погода','солнечно', 'осадка', 'дождь', 'снег', 'ливень', 'зонт'] # Список ключевых слов для определения запроса о погоде.\n",
    "\n",
    "list_for_translation = ['перевод', 'английский']"
   ]
  },
  {
   "cell_type": "markdown",
   "id": "GCM9UgZPc_xQ",
   "metadata": {
    "id": "GCM9UgZPc_xQ"
   },
   "source": [
    "**Проверка совпадения со списком ключевых слов.**"
   ]
  },
  {
   "cell_type": "code",
   "execution_count": null,
   "id": "d14103c8",
   "metadata": {
    "id": "d14103c8"
   },
   "outputs": [],
   "source": [
    "def is_in_list(text, list):\n",
    "    for word in text:\n",
    "        if word in list:\n",
    "            return True\n",
    "            break\n",
    "    return False"
   ]
  },
  {
   "cell_type": "markdown",
   "id": "d62d3749",
   "metadata": {
    "id": "d62d3749"
   },
   "source": [
    "### **Прогноз погоды.**"
   ]
  },
  {
   "cell_type": "markdown",
   "id": "tsFrGzm2dSS5",
   "metadata": {
    "id": "tsFrGzm2dSS5"
   },
   "source": [
    "**Запрос прогноза погоды.**"
   ]
  },
  {
   "cell_type": "code",
   "execution_count": null,
   "id": "fa2d2f42",
   "metadata": {
    "id": "fa2d2f42"
   },
   "outputs": [],
   "source": [
    "key = '9ead4b09f8ab46fb9ce105955220407' # Токен https://www.weatherapi.com/\n",
    "\n",
    "def get_weather(city):\n",
    "    url = f'http://api.weatherapi.com/v1/current.json?key={key}&q={city}&lang=ru'\n",
    "    requests.get(url)\n",
    "    response = requests.get(url)\n",
    "    json_data = json.loads(response.text)\n",
    "\n",
    "    city = json_data['location']['name']\n",
    "    time = json_data['location']['localtime'].split(' ')[1]\n",
    "    temp = json_data['current']['temp_c']\n",
    "    temp_fl = json_data['current']['feelslike_c']\n",
    "    condition = json_data['current']['condition']['text']\n",
    "    wind = json_data['current']['wind_mph']\n",
    "    uv = json_data['current']['uv']\n",
    "\n",
    "    msg = f'В городе {city} сейчас {time}. О погоде: {condition}, температура {temp} градусов, ощущается как {temp_fl} градусов, скорость ветра {wind} м/ч, уровень ультрафиолета {uv}'\n",
    "\n",
    "    return msg"
   ]
  },
  {
   "cell_type": "markdown",
   "id": "ejFJ36iCdiRa",
   "metadata": {
    "id": "ejFJ36iCdiRa"
   },
   "source": [
    "**Определение города для выдачи прогноза погоды.**"
   ]
  },
  {
   "cell_type": "code",
   "execution_count": null,
   "id": "b5243848",
   "metadata": {
    "id": "b5243848"
   },
   "outputs": [],
   "source": [
    "nlp = spacy.load(\"ru_core_news_sm\")\n",
    "\n",
    "def location_recognition(text): \n",
    "    locs = []\n",
    "    doc = nlp(text)\n",
    "    for ent in doc.ents:\n",
    "        if ent.label_ == 'LOC':\n",
    "            locs.append(ent.text)\n",
    "    locs = [morpher.parse(i.lower())[0].normal_form for i in locs]\n",
    "    \n",
    "    return locs"
   ]
  },
  {
   "cell_type": "markdown",
   "id": "9ITIlvsRdwa3",
   "metadata": {
    "id": "9ITIlvsRdwa3"
   },
   "source": [
    "**Прогноз в заданном городе.**"
   ]
  },
  {
   "cell_type": "code",
   "execution_count": null,
   "id": "1803c5b0",
   "metadata": {
    "id": "1803c5b0"
   },
   "outputs": [],
   "source": [
    "def forecast(text):\n",
    "    city = location_recognition(text)\n",
    "    try:\n",
    "        forecast = get_weather(city)\n",
    "    except:\n",
    "        forecast = 'Не понимаю тебя'\n",
    "    \n",
    "    return forecast"
   ]
  },
  {
   "cell_type": "markdown",
   "id": "5f0caf16",
   "metadata": {
    "id": "5f0caf16"
   },
   "source": [
    "### **Функция перевода текста.**"
   ]
  },
  {
   "cell_type": "markdown",
   "id": "up6ATlEDeDsq",
   "metadata": {
    "id": "up6ATlEDeDsq"
   },
   "source": [
    "**Загрузка модели.**"
   ]
  },
  {
   "cell_type": "code",
   "execution_count": null,
   "id": "4e02658b",
   "metadata": {
    "id": "4e02658b"
   },
   "outputs": [],
   "source": [
    "model_name = \"facebook/wmt19-en-ru\"\n",
    "\n",
    "tokenizer = FSMTTokenizer.from_pretrained(model_name)\n",
    "\n",
    "model = FSMTForConditionalGeneration.from_pretrained(model_name)"
   ]
  },
  {
   "cell_type": "code",
   "execution_count": null,
   "id": "f7e0df9d",
   "metadata": {
    "id": "f7e0df9d"
   },
   "outputs": [],
   "source": [
    "def en_ru_translation(text):\n",
    "    input_ids = tokenizer.encode(text, return_tensors=\"pt\")\n",
    "    outputs = model.generate(input_ids)\n",
    "    decoded = tokenizer.decode(outputs[0], skip_special_tokens=True)\n",
    "    \n",
    "    return decoded "
   ]
  },
  {
   "cell_type": "markdown",
   "id": "99022661",
   "metadata": {
    "id": "99022661"
   },
   "source": [
    "### **Подготовка работы бота.**"
   ]
  },
  {
   "cell_type": "code",
   "execution_count": null,
   "id": "abb12725",
   "metadata": {
    "id": "abb12725"
   },
   "outputs": [],
   "source": [
    "updater = Updater(token='5798317713:AAEys_UgVWSI6RRxCBeI8YJku8sbg1UznO4')\n",
    "\n",
    "dispatcher = updater.dispatcher"
   ]
  },
  {
   "cell_type": "code",
   "execution_count": null,
   "id": "f030060b",
   "metadata": {
    "id": "f030060b"
   },
   "outputs": [],
   "source": [
    "def startCommand(update: Update, context: CallbackContext):\n",
    "    update.message.reply_text('Привет!')"
   ]
  },
  {
   "cell_type": "markdown",
   "id": "RQbYQ7ZSf5Nd",
   "metadata": {
    "id": "RQbYQ7ZSf5Nd"
   },
   "source": [
    "**Определение вида запроса от пользователя.**"
   ]
  },
  {
   "cell_type": "code",
   "execution_count": null,
   "id": "f6be43b7",
   "metadata": {
    "id": "f6be43b7"
   },
   "outputs": [],
   "source": [
    "def textMessage(update: Update, context: CallbackContext):\n",
    "    input_txt = preprocess_txt(update.message.text)\n",
    "    \n",
    "    # Перевод текста с английского:\n",
    "    if is_english(update.message.text) == True:\n",
    "        update.message.reply_text(en_ru_translation(update.message.text))\n",
    "    elif is_in_list(input_txt, list_for_translation) == True:\n",
    "        update.message.reply_text(\"Введите текст для перевода\") \n",
    "        \n",
    "    # Прогноз погоды:    \n",
    "    elif is_in_list(input_txt, list_for_weather) == True:        \n",
    "        update.message.reply_text(forecast(update.message.text))\n",
    "            \n",
    "    # Чат:\n",
    "    else: \n",
    "        vect_ft = embed_txt(input_txt, {}, 1)\n",
    "        ft_index_val, distances = ft_index.get_nns_by_vector(vect_ft, 1, include_distances=True)\n",
    "        if distances[0] > 0.35:\n",
    "            print(distances[0])\n",
    "            update.message.reply_text(\"Запрос неясен\")\n",
    "        else:\n",
    "            update.message.reply_text(index_map[ft_index_val[0]])\n",
    "            \n",
    "    return"
   ]
  },
  {
   "cell_type": "code",
   "execution_count": null,
   "id": "12bda712",
   "metadata": {
    "id": "12bda712"
   },
   "outputs": [],
   "source": [
    "dispatcher.add_handler(CommandHandler(\"start\", startCommand))\n",
    "\n",
    "dispatcher.add_handler(MessageHandler(Filters.text & ~Filters.command, textMessage))"
   ]
  },
  {
   "cell_type": "code",
   "execution_count": null,
   "id": "q7VkMeEVgfaj",
   "metadata": {
    "id": "q7VkMeEVgfaj"
   },
   "outputs": [],
   "source": [
    "updater.start_polling()\n",
    "updater.idle()"
   ]
  }
 ],
 "metadata": {
  "colab": {
   "collapsed_sections": [],
   "provenance": []
  },
  "kernelspec": {
   "display_name": "Python 3 (ipykernel)",
   "language": "python",
   "name": "python3"
  },
  "language_info": {
   "codemirror_mode": {
    "name": "ipython",
    "version": 3
   },
   "file_extension": ".py",
   "mimetype": "text/x-python",
   "name": "python",
   "nbconvert_exporter": "python",
   "pygments_lexer": "ipython3",
   "version": "3.9.7"
  }
 },
 "nbformat": 4,
 "nbformat_minor": 5
}
