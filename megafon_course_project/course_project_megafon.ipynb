{
 "cells": [
  {
   "cell_type": "markdown",
   "metadata": {},
   "source": [
    "### Курсовой проект от ПАО \"МегаФон\"."
   ]
  },
  {
   "cell_type": "markdown",
   "metadata": {},
   "source": [
    "\n",
    "Необходимо построить  алгоритм, который для каждой пары пользователь-услуга определит вероятность подключения услуги.\n",
    "\n",
    "#### Данные\n",
    "\n",
    "В качестве исходных данных доступна информация об отклике абонентов на предложение подключения одной из услуг. Каждому пользователю может быть сделано несколько предложений в разное время, каждое из которых он может или принять, или отклонить.\n",
    "\n",
    "Отдельным набором данных будет являться нормализованный анонимизированный набор признаков, характеризующий профиль потребления абонента. Эти данные привязаны к определенному времени, поскольку профиль абонента может меняться с течением времени.\n",
    "\n",
    "Данные train и test разбиты по периодам – на train доступно 4 месяцев, а на test отложен последующий месяц. \n",
    "\n",
    "В качестве входных данных представлены:\n",
    "\n",
    "- data_train.csv: id, vas_id, buy_time, target\n",
    "\n",
    "- features.csv.zip: id, <feature_list> \n",
    "\n",
    "И тестовый набор:\n",
    "\n",
    "- data_test.csv: id, vas_id, buy_time\n",
    "\n",
    "target - целевая переменная, где 1 означает подключение услуги, 0 - абонент не подключил услугу соответственно. \n",
    "\n",
    "buy_time - время покупки, представлено в формате timestamp, для работы с этим столбцом понадобится функция \n",
    "\n",
    "datetime.fromtimestamp из модуля datetime.\n",
    "\n",
    "id - идентификатор абонента\n",
    "\n",
    "vas_id - подключаемая услуга\n",
    "\n",
    "#### Метрика\n",
    "Скоринг будет осуществляться функцией f1, невзвешенным образом, как например делает функция sklearn.metrics.f1_score(…, average=’macro’).\n",
    "\n",
    "#### Формат представления результата\n",
    "\n",
    "1. Работающая модель в формате pickle, которая принимает файл data_test.csv из корневой папки и записывает в эту же папку файл answers_test.csv. В этом файле должны находится 4 столбца: buy_time, id, vas_id и target. Target можно записать как вероятность подключения услуги.\n",
    "2. Код модели можно представить в виде jupyter-ноутбука. \n",
    "3. Презентация в формате .pdf, в которой необходимо отразить:\n",
    " - Информация о модели, ее параметрах, особенностях и основных результатах.\n",
    " - Обоснование выбора модели и ее сравнение с альтернативами.\n",
    " - Принцип составления индивидуальных предложений для выбранных абонентов.\n",
    "Рекомендуемое количество слайдов – 5 – 10.\n",
    "\n",
    "Файл answers_test.csv с результатами работы модели, презентацию, ноутбуки и резюме необходимо прикрепить ко второму уроку “курсовой проект”."
   ]
  },
  {
   "cell_type": "markdown",
   "metadata": {},
   "source": [
    "### Загрузка необходимых библиотек"
   ]
  },
  {
   "cell_type": "code",
   "execution_count": 43,
   "metadata": {},
   "outputs": [],
   "source": [
    "import numpy as np\n",
    "\n",
    "import pandas as pd\n",
    "\n",
    "import matplotlib.pyplot as plt\n",
    "import seaborn as sns\n",
    "%matplotlib inline\n",
    "\n",
    "from datetime import date\n",
    "\n",
    "import itertools\n",
    "\n",
    "import sys\n",
    "\n",
    "import pickle\n",
    "\n",
    "import logging\n",
    "\n",
    "from pathlib2 import Path\n",
    "\n",
    "import xgboost as xgb\n",
    "\n",
    "from sklearn.linear_model import LinearRegression, LogisticRegression, Lasso, LassoCV, Ridge, RidgeCV\n",
    "from sklearn.metrics import accuracy_score, f1_score, confusion_matrix, precision_recall_curve, roc_curve, auc \n",
    "from sklearn.preprocessing import StandardScaler\n",
    "from sklearn.model_selection import train_test_split, KFold, cross_validate\n",
    "from sklearn.pipeline import Pipeline\n",
    "\n",
    "from lightautoml.automl.presets.tabular_presets import TabularAutoML, TabularUtilizedAutoML\n",
    "from lightautoml.tasks import Task\n",
    "\n",
    "import warnings\n",
    "warnings.filterwarnings('ignore')"
   ]
  },
  {
   "cell_type": "markdown",
   "metadata": {},
   "source": [
    "### Загрузка наборов данных"
   ]
  },
  {
   "cell_type": "code",
   "execution_count": 2,
   "metadata": {},
   "outputs": [],
   "source": [
    "path = Path('G:')"
   ]
  },
  {
   "cell_type": "code",
   "execution_count": 3,
   "metadata": {},
   "outputs": [
    {
     "data": {
      "text/html": [
       "<div>\n",
       "<style scoped>\n",
       "    .dataframe tbody tr th:only-of-type {\n",
       "        vertical-align: middle;\n",
       "    }\n",
       "\n",
       "    .dataframe tbody tr th {\n",
       "        vertical-align: top;\n",
       "    }\n",
       "\n",
       "    .dataframe thead th {\n",
       "        text-align: right;\n",
       "    }\n",
       "</style>\n",
       "<table border=\"1\" class=\"dataframe\">\n",
       "  <thead>\n",
       "    <tr style=\"text-align: right;\">\n",
       "      <th></th>\n",
       "      <th>id</th>\n",
       "      <th>vas_id</th>\n",
       "      <th>buy_time</th>\n",
       "      <th>target</th>\n",
       "    </tr>\n",
       "  </thead>\n",
       "  <tbody>\n",
       "    <tr>\n",
       "      <th>0</th>\n",
       "      <td>540968</td>\n",
       "      <td>8.0</td>\n",
       "      <td>1537131600</td>\n",
       "      <td>0.0</td>\n",
       "    </tr>\n",
       "    <tr>\n",
       "      <th>1</th>\n",
       "      <td>1454121</td>\n",
       "      <td>4.0</td>\n",
       "      <td>1531688400</td>\n",
       "      <td>0.0</td>\n",
       "    </tr>\n",
       "    <tr>\n",
       "      <th>2</th>\n",
       "      <td>2458816</td>\n",
       "      <td>1.0</td>\n",
       "      <td>1534107600</td>\n",
       "      <td>0.0</td>\n",
       "    </tr>\n",
       "    <tr>\n",
       "      <th>3</th>\n",
       "      <td>3535012</td>\n",
       "      <td>5.0</td>\n",
       "      <td>1535922000</td>\n",
       "      <td>0.0</td>\n",
       "    </tr>\n",
       "    <tr>\n",
       "      <th>4</th>\n",
       "      <td>1693214</td>\n",
       "      <td>1.0</td>\n",
       "      <td>1535922000</td>\n",
       "      <td>0.0</td>\n",
       "    </tr>\n",
       "  </tbody>\n",
       "</table>\n",
       "</div>"
      ],
      "text/plain": [
       "        id  vas_id    buy_time  target\n",
       "0   540968     8.0  1537131600     0.0\n",
       "1  1454121     4.0  1531688400     0.0\n",
       "2  2458816     1.0  1534107600     0.0\n",
       "3  3535012     5.0  1535922000     0.0\n",
       "4  1693214     1.0  1535922000     0.0"
      ]
     },
     "execution_count": 3,
     "metadata": {},
     "output_type": "execute_result"
    }
   ],
   "source": [
    "train = pd.read_csv(path.joinpath('data_train.csv')).drop(['Unnamed: 0'], axis=1)\n",
    "\n",
    "train.head()"
   ]
  },
  {
   "cell_type": "code",
   "execution_count": 4,
   "metadata": {},
   "outputs": [
    {
     "data": {
      "text/html": [
       "<div>\n",
       "<style scoped>\n",
       "    .dataframe tbody tr th:only-of-type {\n",
       "        vertical-align: middle;\n",
       "    }\n",
       "\n",
       "    .dataframe tbody tr th {\n",
       "        vertical-align: top;\n",
       "    }\n",
       "\n",
       "    .dataframe thead th {\n",
       "        text-align: right;\n",
       "    }\n",
       "</style>\n",
       "<table border=\"1\" class=\"dataframe\">\n",
       "  <thead>\n",
       "    <tr style=\"text-align: right;\">\n",
       "      <th></th>\n",
       "      <th>id</th>\n",
       "      <th>vas_id</th>\n",
       "      <th>buy_time</th>\n",
       "    </tr>\n",
       "  </thead>\n",
       "  <tbody>\n",
       "    <tr>\n",
       "      <th>0</th>\n",
       "      <td>3130519</td>\n",
       "      <td>2.0</td>\n",
       "      <td>1548018000</td>\n",
       "    </tr>\n",
       "    <tr>\n",
       "      <th>1</th>\n",
       "      <td>2000860</td>\n",
       "      <td>4.0</td>\n",
       "      <td>1548018000</td>\n",
       "    </tr>\n",
       "    <tr>\n",
       "      <th>2</th>\n",
       "      <td>1099444</td>\n",
       "      <td>2.0</td>\n",
       "      <td>1546808400</td>\n",
       "    </tr>\n",
       "    <tr>\n",
       "      <th>3</th>\n",
       "      <td>1343255</td>\n",
       "      <td>5.0</td>\n",
       "      <td>1547413200</td>\n",
       "    </tr>\n",
       "    <tr>\n",
       "      <th>4</th>\n",
       "      <td>1277040</td>\n",
       "      <td>2.0</td>\n",
       "      <td>1546808400</td>\n",
       "    </tr>\n",
       "  </tbody>\n",
       "</table>\n",
       "</div>"
      ],
      "text/plain": [
       "        id  vas_id    buy_time\n",
       "0  3130519     2.0  1548018000\n",
       "1  2000860     4.0  1548018000\n",
       "2  1099444     2.0  1546808400\n",
       "3  1343255     5.0  1547413200\n",
       "4  1277040     2.0  1546808400"
      ]
     },
     "execution_count": 4,
     "metadata": {},
     "output_type": "execute_result"
    }
   ],
   "source": [
    "test = pd.read_csv(path.joinpath('data_test.csv')).drop(['Unnamed: 0'], axis=1)\n",
    "\n",
    "test.head()"
   ]
  },
  {
   "cell_type": "code",
   "execution_count": 5,
   "metadata": {},
   "outputs": [
    {
     "data": {
      "text/html": [
       "<div>\n",
       "<style scoped>\n",
       "    .dataframe tbody tr th:only-of-type {\n",
       "        vertical-align: middle;\n",
       "    }\n",
       "\n",
       "    .dataframe tbody tr th {\n",
       "        vertical-align: top;\n",
       "    }\n",
       "\n",
       "    .dataframe thead th {\n",
       "        text-align: right;\n",
       "    }\n",
       "</style>\n",
       "<table border=\"1\" class=\"dataframe\">\n",
       "  <thead>\n",
       "    <tr style=\"text-align: right;\">\n",
       "      <th></th>\n",
       "      <th>id</th>\n",
       "      <th>buy_time</th>\n",
       "      <th>0</th>\n",
       "      <th>1</th>\n",
       "      <th>2</th>\n",
       "      <th>3</th>\n",
       "      <th>4</th>\n",
       "      <th>5</th>\n",
       "      <th>6</th>\n",
       "      <th>7</th>\n",
       "      <th>...</th>\n",
       "      <th>243</th>\n",
       "      <th>244</th>\n",
       "      <th>245</th>\n",
       "      <th>246</th>\n",
       "      <th>247</th>\n",
       "      <th>248</th>\n",
       "      <th>249</th>\n",
       "      <th>250</th>\n",
       "      <th>251</th>\n",
       "      <th>252</th>\n",
       "    </tr>\n",
       "  </thead>\n",
       "  <tbody>\n",
       "    <tr>\n",
       "      <th>0</th>\n",
       "      <td>2013026</td>\n",
       "      <td>1531688400</td>\n",
       "      <td>18.910029</td>\n",
       "      <td>46.980888</td>\n",
       "      <td>4.969214</td>\n",
       "      <td>-1.386798</td>\n",
       "      <td>3.791754</td>\n",
       "      <td>-14.01179</td>\n",
       "      <td>-16.08618</td>\n",
       "      <td>-65.076097</td>\n",
       "      <td>...</td>\n",
       "      <td>-977.373846</td>\n",
       "      <td>-613.770792</td>\n",
       "      <td>-25.996269</td>\n",
       "      <td>-37.630448</td>\n",
       "      <td>-301.747724</td>\n",
       "      <td>-25.832889</td>\n",
       "      <td>-0.694428</td>\n",
       "      <td>-12.175933</td>\n",
       "      <td>-0.45614</td>\n",
       "      <td>0.0</td>\n",
       "    </tr>\n",
       "    <tr>\n",
       "      <th>1</th>\n",
       "      <td>2014722</td>\n",
       "      <td>1539550800</td>\n",
       "      <td>36.690029</td>\n",
       "      <td>152.400888</td>\n",
       "      <td>448.069214</td>\n",
       "      <td>563.833202</td>\n",
       "      <td>463.841754</td>\n",
       "      <td>568.99821</td>\n",
       "      <td>-16.08618</td>\n",
       "      <td>-53.216097</td>\n",
       "      <td>...</td>\n",
       "      <td>-891.373846</td>\n",
       "      <td>-544.770792</td>\n",
       "      <td>-20.996269</td>\n",
       "      <td>48.369552</td>\n",
       "      <td>80.252276</td>\n",
       "      <td>-13.832889</td>\n",
       "      <td>-0.694428</td>\n",
       "      <td>-1.175933</td>\n",
       "      <td>-0.45614</td>\n",
       "      <td>0.0</td>\n",
       "    </tr>\n",
       "    <tr>\n",
       "      <th>2</th>\n",
       "      <td>2015199</td>\n",
       "      <td>1545598800</td>\n",
       "      <td>-67.019971</td>\n",
       "      <td>157.050888</td>\n",
       "      <td>-63.180786</td>\n",
       "      <td>178.103202</td>\n",
       "      <td>-68.598246</td>\n",
       "      <td>156.99821</td>\n",
       "      <td>3.51382</td>\n",
       "      <td>25.183903</td>\n",
       "      <td>...</td>\n",
       "      <td>-977.373846</td>\n",
       "      <td>-613.770792</td>\n",
       "      <td>-12.996269</td>\n",
       "      <td>-37.630448</td>\n",
       "      <td>10829.252276</td>\n",
       "      <td>-25.832889</td>\n",
       "      <td>-0.694428</td>\n",
       "      <td>-12.175933</td>\n",
       "      <td>-0.45614</td>\n",
       "      <td>0.0</td>\n",
       "    </tr>\n",
       "    <tr>\n",
       "      <th>3</th>\n",
       "      <td>2021765</td>\n",
       "      <td>1534107600</td>\n",
       "      <td>7.010029</td>\n",
       "      <td>150.200888</td>\n",
       "      <td>-6.930786</td>\n",
       "      <td>216.213202</td>\n",
       "      <td>76.621754</td>\n",
       "      <td>351.84821</td>\n",
       "      <td>-16.08618</td>\n",
       "      <td>-65.076097</td>\n",
       "      <td>...</td>\n",
       "      <td>-973.373846</td>\n",
       "      <td>-613.770792</td>\n",
       "      <td>-23.996269</td>\n",
       "      <td>-37.630448</td>\n",
       "      <td>-205.747724</td>\n",
       "      <td>-24.832889</td>\n",
       "      <td>-0.694428</td>\n",
       "      <td>-11.175933</td>\n",
       "      <td>-0.45614</td>\n",
       "      <td>1.0</td>\n",
       "    </tr>\n",
       "    <tr>\n",
       "      <th>4</th>\n",
       "      <td>2027465</td>\n",
       "      <td>1533502800</td>\n",
       "      <td>-90.439971</td>\n",
       "      <td>134.220888</td>\n",
       "      <td>-104.380786</td>\n",
       "      <td>153.643202</td>\n",
       "      <td>-109.798246</td>\n",
       "      <td>132.53821</td>\n",
       "      <td>-16.08618</td>\n",
       "      <td>-65.076097</td>\n",
       "      <td>...</td>\n",
       "      <td>1643.626154</td>\n",
       "      <td>2007.229208</td>\n",
       "      <td>206.003731</td>\n",
       "      <td>-21.630448</td>\n",
       "      <td>6667.252276</td>\n",
       "      <td>92.167111</td>\n",
       "      <td>-0.694428</td>\n",
       "      <td>49.824067</td>\n",
       "      <td>47.54386</td>\n",
       "      <td>0.0</td>\n",
       "    </tr>\n",
       "  </tbody>\n",
       "</table>\n",
       "<p>5 rows × 255 columns</p>\n",
       "</div>"
      ],
      "text/plain": [
       "        id    buy_time          0           1           2           3  \\\n",
       "0  2013026  1531688400  18.910029   46.980888    4.969214   -1.386798   \n",
       "1  2014722  1539550800  36.690029  152.400888  448.069214  563.833202   \n",
       "2  2015199  1545598800 -67.019971  157.050888  -63.180786  178.103202   \n",
       "3  2021765  1534107600   7.010029  150.200888   -6.930786  216.213202   \n",
       "4  2027465  1533502800 -90.439971  134.220888 -104.380786  153.643202   \n",
       "\n",
       "            4          5         6          7  ...          243          244  \\\n",
       "0    3.791754  -14.01179 -16.08618 -65.076097  ...  -977.373846  -613.770792   \n",
       "1  463.841754  568.99821 -16.08618 -53.216097  ...  -891.373846  -544.770792   \n",
       "2  -68.598246  156.99821   3.51382  25.183903  ...  -977.373846  -613.770792   \n",
       "3   76.621754  351.84821 -16.08618 -65.076097  ...  -973.373846  -613.770792   \n",
       "4 -109.798246  132.53821 -16.08618 -65.076097  ...  1643.626154  2007.229208   \n",
       "\n",
       "          245        246           247        248       249        250  \\\n",
       "0  -25.996269 -37.630448   -301.747724 -25.832889 -0.694428 -12.175933   \n",
       "1  -20.996269  48.369552     80.252276 -13.832889 -0.694428  -1.175933   \n",
       "2  -12.996269 -37.630448  10829.252276 -25.832889 -0.694428 -12.175933   \n",
       "3  -23.996269 -37.630448   -205.747724 -24.832889 -0.694428 -11.175933   \n",
       "4  206.003731 -21.630448   6667.252276  92.167111 -0.694428  49.824067   \n",
       "\n",
       "        251  252  \n",
       "0  -0.45614  0.0  \n",
       "1  -0.45614  0.0  \n",
       "2  -0.45614  0.0  \n",
       "3  -0.45614  1.0  \n",
       "4  47.54386  0.0  \n",
       "\n",
       "[5 rows x 255 columns]"
      ]
     },
     "execution_count": 5,
     "metadata": {},
     "output_type": "execute_result"
    }
   ],
   "source": [
    "features = pd.read_csv(path.joinpath('features.csv'), sep='\\t').drop(['Unnamed: 0'], axis=1)\n",
    "\n",
    "features.head()"
   ]
  },
  {
   "cell_type": "markdown",
   "metadata": {},
   "source": [
    "#### Оптимизация объема занимаемой памяти"
   ]
  },
  {
   "cell_type": "code",
   "execution_count": 6,
   "metadata": {},
   "outputs": [],
   "source": [
    "def reduce_mem_usage(df):\n",
    "    \n",
    "    start_mem = df.memory_usage().sum() / 1024**2\n",
    "    print('Объем до оптимизации {:.2f} MB'.format(start_mem))\n",
    "    \n",
    "    for col in df.columns:\n",
    "        col_type = df[col].dtype\n",
    "        \n",
    "        if col_type != object:\n",
    "            c_min = df[col].min()\n",
    "            c_max = df[col].max()\n",
    "            if str(col_type)[:3] == 'int':\n",
    "                if c_min > np.iinfo(np.int8).min and c_max < np.iinfo(np.int8).max:\n",
    "                    df[col] = df[col].astype(np.int8)\n",
    "                elif c_min > np.iinfo(np.int16).min and c_max < np.iinfo(np.int16).max:\n",
    "                    df[col] = df[col].astype(np.int16)\n",
    "                elif c_min > np.iinfo(np.int32).min and c_max < np.iinfo(np.int32).max:\n",
    "                    df[col] = df[col].astype(np.int32)\n",
    "                elif c_min > np.iinfo(np.int64).min and c_max < np.iinfo(np.int64).max:\n",
    "                    df[col] = df[col].astype(np.int64)  \n",
    "            else:\n",
    "                \n",
    "                if c_min > np.finfo(np.float32).min and c_max < np.finfo(np.float32).max:\n",
    "                    df[col] = df[col].astype(np.float32)\n",
    "                else:\n",
    "                    df[col] = df[col].astype(np.float64)\n",
    "        else:\n",
    "            df[col] = df[col].astype('category')\n",
    "\n",
    "    end_mem = df.memory_usage().sum() / 1024**2\n",
    "    print('Объем памяти после оптимизации: {:.2f} MB'.format(end_mem))\n",
    "    print('Объем сократился на {:.1f}%'.format(100 * (start_mem - end_mem) / start_mem))\n",
    "    \n",
    "    return df"
   ]
  },
  {
   "cell_type": "code",
   "execution_count": 7,
   "metadata": {},
   "outputs": [
    {
     "name": "stdout",
     "output_type": "stream",
     "text": [
      "Объем до оптимизации 25.38 MB\n",
      "Объем памяти после оптимизации: 12.69 MB\n",
      "Объем сократился на 50.0%\n"
     ]
    }
   ],
   "source": [
    "train = reduce_mem_usage(train)"
   ]
  },
  {
   "cell_type": "code",
   "execution_count": 8,
   "metadata": {},
   "outputs": [
    {
     "name": "stdout",
     "output_type": "stream",
     "text": [
      "Объем до оптимизации 1.63 MB\n",
      "Объем памяти после оптимизации: 0.82 MB\n",
      "Объем сократился на 50.0%\n"
     ]
    }
   ],
   "source": [
    "test = reduce_mem_usage(test)"
   ]
  },
  {
   "cell_type": "code",
   "execution_count": 9,
   "metadata": {},
   "outputs": [
    {
     "name": "stdout",
     "output_type": "stream",
     "text": [
      "Объем до оптимизации 8779.10 MB\n",
      "Объем памяти после оптимизации: 4389.55 MB\n",
      "Объем сократился на 50.0%\n"
     ]
    }
   ],
   "source": [
    "features = reduce_mem_usage(features)"
   ]
  },
  {
   "cell_type": "markdown",
   "metadata": {},
   "source": [
    "#### Преобразуем признаки 'buy_time' из типа int к временному ряду."
   ]
  },
  {
   "cell_type": "code",
   "execution_count": 10,
   "metadata": {},
   "outputs": [
    {
     "data": {
      "text/html": [
       "<div>\n",
       "<style scoped>\n",
       "    .dataframe tbody tr th:only-of-type {\n",
       "        vertical-align: middle;\n",
       "    }\n",
       "\n",
       "    .dataframe tbody tr th {\n",
       "        vertical-align: top;\n",
       "    }\n",
       "\n",
       "    .dataframe thead th {\n",
       "        text-align: right;\n",
       "    }\n",
       "</style>\n",
       "<table border=\"1\" class=\"dataframe\">\n",
       "  <thead>\n",
       "    <tr style=\"text-align: right;\">\n",
       "      <th></th>\n",
       "      <th>id</th>\n",
       "      <th>vas_id</th>\n",
       "      <th>buy_time</th>\n",
       "      <th>target</th>\n",
       "    </tr>\n",
       "  </thead>\n",
       "  <tbody>\n",
       "    <tr>\n",
       "      <th>0</th>\n",
       "      <td>540968</td>\n",
       "      <td>8.0</td>\n",
       "      <td>2018-09-17</td>\n",
       "      <td>0.0</td>\n",
       "    </tr>\n",
       "    <tr>\n",
       "      <th>1</th>\n",
       "      <td>1454121</td>\n",
       "      <td>4.0</td>\n",
       "      <td>2018-07-16</td>\n",
       "      <td>0.0</td>\n",
       "    </tr>\n",
       "    <tr>\n",
       "      <th>2</th>\n",
       "      <td>2458816</td>\n",
       "      <td>1.0</td>\n",
       "      <td>2018-08-13</td>\n",
       "      <td>0.0</td>\n",
       "    </tr>\n",
       "    <tr>\n",
       "      <th>3</th>\n",
       "      <td>3535012</td>\n",
       "      <td>5.0</td>\n",
       "      <td>2018-09-03</td>\n",
       "      <td>0.0</td>\n",
       "    </tr>\n",
       "    <tr>\n",
       "      <th>4</th>\n",
       "      <td>1693214</td>\n",
       "      <td>1.0</td>\n",
       "      <td>2018-09-03</td>\n",
       "      <td>0.0</td>\n",
       "    </tr>\n",
       "  </tbody>\n",
       "</table>\n",
       "</div>"
      ],
      "text/plain": [
       "        id  vas_id    buy_time  target\n",
       "0   540968     8.0  2018-09-17     0.0\n",
       "1  1454121     4.0  2018-07-16     0.0\n",
       "2  2458816     1.0  2018-08-13     0.0\n",
       "3  3535012     5.0  2018-09-03     0.0\n",
       "4  1693214     1.0  2018-09-03     0.0"
      ]
     },
     "execution_count": 10,
     "metadata": {},
     "output_type": "execute_result"
    }
   ],
   "source": [
    "train['buy_time'] = train['buy_time'].apply(lambda data: date.fromtimestamp(data))\n",
    "\n",
    "train.head()"
   ]
  },
  {
   "cell_type": "code",
   "execution_count": 11,
   "metadata": {},
   "outputs": [
    {
     "data": {
      "text/html": [
       "<div>\n",
       "<style scoped>\n",
       "    .dataframe tbody tr th:only-of-type {\n",
       "        vertical-align: middle;\n",
       "    }\n",
       "\n",
       "    .dataframe tbody tr th {\n",
       "        vertical-align: top;\n",
       "    }\n",
       "\n",
       "    .dataframe thead th {\n",
       "        text-align: right;\n",
       "    }\n",
       "</style>\n",
       "<table border=\"1\" class=\"dataframe\">\n",
       "  <thead>\n",
       "    <tr style=\"text-align: right;\">\n",
       "      <th></th>\n",
       "      <th>id</th>\n",
       "      <th>vas_id</th>\n",
       "      <th>buy_time</th>\n",
       "    </tr>\n",
       "  </thead>\n",
       "  <tbody>\n",
       "    <tr>\n",
       "      <th>0</th>\n",
       "      <td>3130519</td>\n",
       "      <td>2.0</td>\n",
       "      <td>2019-01-21</td>\n",
       "    </tr>\n",
       "    <tr>\n",
       "      <th>1</th>\n",
       "      <td>2000860</td>\n",
       "      <td>4.0</td>\n",
       "      <td>2019-01-21</td>\n",
       "    </tr>\n",
       "    <tr>\n",
       "      <th>2</th>\n",
       "      <td>1099444</td>\n",
       "      <td>2.0</td>\n",
       "      <td>2019-01-07</td>\n",
       "    </tr>\n",
       "    <tr>\n",
       "      <th>3</th>\n",
       "      <td>1343255</td>\n",
       "      <td>5.0</td>\n",
       "      <td>2019-01-14</td>\n",
       "    </tr>\n",
       "    <tr>\n",
       "      <th>4</th>\n",
       "      <td>1277040</td>\n",
       "      <td>2.0</td>\n",
       "      <td>2019-01-07</td>\n",
       "    </tr>\n",
       "  </tbody>\n",
       "</table>\n",
       "</div>"
      ],
      "text/plain": [
       "        id  vas_id    buy_time\n",
       "0  3130519     2.0  2019-01-21\n",
       "1  2000860     4.0  2019-01-21\n",
       "2  1099444     2.0  2019-01-07\n",
       "3  1343255     5.0  2019-01-14\n",
       "4  1277040     2.0  2019-01-07"
      ]
     },
     "execution_count": 11,
     "metadata": {},
     "output_type": "execute_result"
    }
   ],
   "source": [
    "test['buy_time'] = test['buy_time'].apply(lambda data: date.fromtimestamp(data))\n",
    "\n",
    "test.head()"
   ]
  },
  {
   "cell_type": "code",
   "execution_count": 12,
   "metadata": {},
   "outputs": [
    {
     "data": {
      "text/html": [
       "<div>\n",
       "<style scoped>\n",
       "    .dataframe tbody tr th:only-of-type {\n",
       "        vertical-align: middle;\n",
       "    }\n",
       "\n",
       "    .dataframe tbody tr th {\n",
       "        vertical-align: top;\n",
       "    }\n",
       "\n",
       "    .dataframe thead th {\n",
       "        text-align: right;\n",
       "    }\n",
       "</style>\n",
       "<table border=\"1\" class=\"dataframe\">\n",
       "  <thead>\n",
       "    <tr style=\"text-align: right;\">\n",
       "      <th></th>\n",
       "      <th>id</th>\n",
       "      <th>buy_time</th>\n",
       "      <th>0</th>\n",
       "      <th>1</th>\n",
       "      <th>2</th>\n",
       "      <th>3</th>\n",
       "      <th>4</th>\n",
       "      <th>5</th>\n",
       "      <th>6</th>\n",
       "      <th>7</th>\n",
       "      <th>...</th>\n",
       "      <th>243</th>\n",
       "      <th>244</th>\n",
       "      <th>245</th>\n",
       "      <th>246</th>\n",
       "      <th>247</th>\n",
       "      <th>248</th>\n",
       "      <th>249</th>\n",
       "      <th>250</th>\n",
       "      <th>251</th>\n",
       "      <th>252</th>\n",
       "    </tr>\n",
       "  </thead>\n",
       "  <tbody>\n",
       "    <tr>\n",
       "      <th>0</th>\n",
       "      <td>2013026</td>\n",
       "      <td>2018-07-16</td>\n",
       "      <td>18.910028</td>\n",
       "      <td>46.980888</td>\n",
       "      <td>4.969214</td>\n",
       "      <td>-1.386798</td>\n",
       "      <td>3.791754</td>\n",
       "      <td>-14.011789</td>\n",
       "      <td>-16.08618</td>\n",
       "      <td>-65.076096</td>\n",
       "      <td>...</td>\n",
       "      <td>-977.373840</td>\n",
       "      <td>-613.770813</td>\n",
       "      <td>-25.996269</td>\n",
       "      <td>-37.630447</td>\n",
       "      <td>-301.747711</td>\n",
       "      <td>-25.832888</td>\n",
       "      <td>-0.694429</td>\n",
       "      <td>-12.175933</td>\n",
       "      <td>-0.456140</td>\n",
       "      <td>0.0</td>\n",
       "    </tr>\n",
       "    <tr>\n",
       "      <th>1</th>\n",
       "      <td>2014722</td>\n",
       "      <td>2018-10-15</td>\n",
       "      <td>36.690029</td>\n",
       "      <td>152.400894</td>\n",
       "      <td>448.069214</td>\n",
       "      <td>563.833191</td>\n",
       "      <td>463.841766</td>\n",
       "      <td>568.998230</td>\n",
       "      <td>-16.08618</td>\n",
       "      <td>-53.216099</td>\n",
       "      <td>...</td>\n",
       "      <td>-891.373840</td>\n",
       "      <td>-544.770813</td>\n",
       "      <td>-20.996269</td>\n",
       "      <td>48.369553</td>\n",
       "      <td>80.252274</td>\n",
       "      <td>-13.832889</td>\n",
       "      <td>-0.694429</td>\n",
       "      <td>-1.175933</td>\n",
       "      <td>-0.456140</td>\n",
       "      <td>0.0</td>\n",
       "    </tr>\n",
       "    <tr>\n",
       "      <th>2</th>\n",
       "      <td>2015199</td>\n",
       "      <td>2018-12-24</td>\n",
       "      <td>-67.019974</td>\n",
       "      <td>157.050888</td>\n",
       "      <td>-63.180786</td>\n",
       "      <td>178.103195</td>\n",
       "      <td>-68.598244</td>\n",
       "      <td>156.998215</td>\n",
       "      <td>3.51382</td>\n",
       "      <td>25.183903</td>\n",
       "      <td>...</td>\n",
       "      <td>-977.373840</td>\n",
       "      <td>-613.770813</td>\n",
       "      <td>-12.996268</td>\n",
       "      <td>-37.630447</td>\n",
       "      <td>10829.251953</td>\n",
       "      <td>-25.832888</td>\n",
       "      <td>-0.694429</td>\n",
       "      <td>-12.175933</td>\n",
       "      <td>-0.456140</td>\n",
       "      <td>0.0</td>\n",
       "    </tr>\n",
       "    <tr>\n",
       "      <th>3</th>\n",
       "      <td>2021765</td>\n",
       "      <td>2018-08-13</td>\n",
       "      <td>7.010029</td>\n",
       "      <td>150.200882</td>\n",
       "      <td>-6.930786</td>\n",
       "      <td>216.213196</td>\n",
       "      <td>76.621758</td>\n",
       "      <td>351.848206</td>\n",
       "      <td>-16.08618</td>\n",
       "      <td>-65.076096</td>\n",
       "      <td>...</td>\n",
       "      <td>-973.373840</td>\n",
       "      <td>-613.770813</td>\n",
       "      <td>-23.996269</td>\n",
       "      <td>-37.630447</td>\n",
       "      <td>-205.747726</td>\n",
       "      <td>-24.832888</td>\n",
       "      <td>-0.694429</td>\n",
       "      <td>-11.175933</td>\n",
       "      <td>-0.456140</td>\n",
       "      <td>1.0</td>\n",
       "    </tr>\n",
       "    <tr>\n",
       "      <th>4</th>\n",
       "      <td>2027465</td>\n",
       "      <td>2018-08-06</td>\n",
       "      <td>-90.439972</td>\n",
       "      <td>134.220886</td>\n",
       "      <td>-104.380783</td>\n",
       "      <td>153.643204</td>\n",
       "      <td>-109.798248</td>\n",
       "      <td>132.538208</td>\n",
       "      <td>-16.08618</td>\n",
       "      <td>-65.076096</td>\n",
       "      <td>...</td>\n",
       "      <td>1643.626099</td>\n",
       "      <td>2007.229248</td>\n",
       "      <td>206.003738</td>\n",
       "      <td>-21.630449</td>\n",
       "      <td>6667.252441</td>\n",
       "      <td>92.167114</td>\n",
       "      <td>-0.694429</td>\n",
       "      <td>49.824066</td>\n",
       "      <td>47.543861</td>\n",
       "      <td>0.0</td>\n",
       "    </tr>\n",
       "  </tbody>\n",
       "</table>\n",
       "<p>5 rows × 255 columns</p>\n",
       "</div>"
      ],
      "text/plain": [
       "        id    buy_time          0           1           2           3  \\\n",
       "0  2013026  2018-07-16  18.910028   46.980888    4.969214   -1.386798   \n",
       "1  2014722  2018-10-15  36.690029  152.400894  448.069214  563.833191   \n",
       "2  2015199  2018-12-24 -67.019974  157.050888  -63.180786  178.103195   \n",
       "3  2021765  2018-08-13   7.010029  150.200882   -6.930786  216.213196   \n",
       "4  2027465  2018-08-06 -90.439972  134.220886 -104.380783  153.643204   \n",
       "\n",
       "            4           5         6          7  ...          243          244  \\\n",
       "0    3.791754  -14.011789 -16.08618 -65.076096  ...  -977.373840  -613.770813   \n",
       "1  463.841766  568.998230 -16.08618 -53.216099  ...  -891.373840  -544.770813   \n",
       "2  -68.598244  156.998215   3.51382  25.183903  ...  -977.373840  -613.770813   \n",
       "3   76.621758  351.848206 -16.08618 -65.076096  ...  -973.373840  -613.770813   \n",
       "4 -109.798248  132.538208 -16.08618 -65.076096  ...  1643.626099  2007.229248   \n",
       "\n",
       "          245        246           247        248       249        250  \\\n",
       "0  -25.996269 -37.630447   -301.747711 -25.832888 -0.694429 -12.175933   \n",
       "1  -20.996269  48.369553     80.252274 -13.832889 -0.694429  -1.175933   \n",
       "2  -12.996268 -37.630447  10829.251953 -25.832888 -0.694429 -12.175933   \n",
       "3  -23.996269 -37.630447   -205.747726 -24.832888 -0.694429 -11.175933   \n",
       "4  206.003738 -21.630449   6667.252441  92.167114 -0.694429  49.824066   \n",
       "\n",
       "         251  252  \n",
       "0  -0.456140  0.0  \n",
       "1  -0.456140  0.0  \n",
       "2  -0.456140  0.0  \n",
       "3  -0.456140  1.0  \n",
       "4  47.543861  0.0  \n",
       "\n",
       "[5 rows x 255 columns]"
      ]
     },
     "execution_count": 12,
     "metadata": {},
     "output_type": "execute_result"
    }
   ],
   "source": [
    "features['buy_time'] = features['buy_time'].apply(lambda data: date.fromtimestamp(data))\n",
    "\n",
    "features.head()"
   ]
  },
  {
   "cell_type": "markdown",
   "metadata": {},
   "source": [
    "### Разведочный анализ данных"
   ]
  },
  {
   "cell_type": "markdown",
   "metadata": {},
   "source": [
    "#### Проверим наличие пропусков"
   ]
  },
  {
   "cell_type": "code",
   "execution_count": 13,
   "metadata": {},
   "outputs": [
    {
     "name": "stdout",
     "output_type": "stream",
     "text": [
      "<class 'pandas.core.frame.DataFrame'>\n",
      "RangeIndex: 831653 entries, 0 to 831652\n",
      "Data columns (total 4 columns):\n",
      " #   Column    Non-Null Count   Dtype  \n",
      "---  ------    --------------   -----  \n",
      " 0   id        831653 non-null  int32  \n",
      " 1   vas_id    831653 non-null  float32\n",
      " 2   buy_time  831653 non-null  object \n",
      " 3   target    831653 non-null  float32\n",
      "dtypes: float32(2), int32(1), object(1)\n",
      "memory usage: 15.9+ MB\n"
     ]
    }
   ],
   "source": [
    "train.info()"
   ]
  },
  {
   "cell_type": "code",
   "execution_count": 14,
   "metadata": {},
   "outputs": [
    {
     "name": "stdout",
     "output_type": "stream",
     "text": [
      "<class 'pandas.core.frame.DataFrame'>\n",
      "RangeIndex: 71231 entries, 0 to 71230\n",
      "Data columns (total 3 columns):\n",
      " #   Column    Non-Null Count  Dtype  \n",
      "---  ------    --------------  -----  \n",
      " 0   id        71231 non-null  int32  \n",
      " 1   vas_id    71231 non-null  float32\n",
      " 2   buy_time  71231 non-null  object \n",
      "dtypes: float32(1), int32(1), object(1)\n",
      "memory usage: 1.1+ MB\n"
     ]
    }
   ],
   "source": [
    "test.info()"
   ]
  },
  {
   "cell_type": "code",
   "execution_count": 15,
   "metadata": {},
   "outputs": [
    {
     "data": {
      "text/plain": [
       "False"
      ]
     },
     "execution_count": 15,
     "metadata": {},
     "output_type": "execute_result"
    }
   ],
   "source": [
    "features.isnull().values.any()"
   ]
  },
  {
   "cell_type": "markdown",
   "metadata": {},
   "source": [
    "Датасеты не содержат незаполненных значений."
   ]
  },
  {
   "cell_type": "markdown",
   "metadata": {},
   "source": [
    "#### Исследуем распределения в датасетах"
   ]
  },
  {
   "cell_type": "code",
   "execution_count": 16,
   "metadata": {},
   "outputs": [
    {
     "data": {
      "image/png": "[encoded data removed]",
      "text/plain": [
       "<Figure size 432x288 with 1 Axes>"
      ]
     },
     "metadata": {
      "needs_background": "light"
     },
     "output_type": "display_data"
    }
   ],
   "source": [
    "train['target'].plot(kind='hist',bins=10);"
   ]
  },
  {
   "cell_type": "markdown",
   "metadata": {},
   "source": [
    "Наблюдается дисбаланс распределения переменной 'target'"
   ]
  },
  {
   "cell_type": "code",
   "execution_count": 17,
   "metadata": {},
   "outputs": [
    {
     "data": {
      "image/png": "[encoded data removed]",
      "text/plain": [
       "<Figure size 432x288 with 1 Axes>"
      ]
     },
     "metadata": {
      "needs_background": "light"
     },
     "output_type": "display_data"
    }
   ],
   "source": [
    "train['vas_id'].plot(kind='hist',bins=10);"
   ]
  },
  {
   "cell_type": "code",
   "execution_count": 18,
   "metadata": {},
   "outputs": [
    {
     "data": {
      "image/png": "[encoded data removed]",
      "text/plain": [
       "<Figure size 432x288 with 1 Axes>"
      ]
     },
     "metadata": {
      "needs_background": "light"
     },
     "output_type": "display_data"
    }
   ],
   "source": [
    "test['vas_id'].plot(kind='hist',bins=10);"
   ]
  },
  {
   "cell_type": "markdown",
   "metadata": {},
   "source": [
    "Распределение подключенных услуг (параметр 'vas_id') на тренировочном и тестовом наборах отличаются"
   ]
  },
  {
   "cell_type": "markdown",
   "metadata": {},
   "source": [
    "#### Определим временные периоды в датасетах"
   ]
  },
  {
   "cell_type": "code",
   "execution_count": 19,
   "metadata": {},
   "outputs": [
    {
     "data": {
      "text/plain": [
       "datetime.date(2018, 7, 9)"
      ]
     },
     "execution_count": 19,
     "metadata": {},
     "output_type": "execute_result"
    }
   ],
   "source": [
    "np.min(train['buy_time'])"
   ]
  },
  {
   "cell_type": "code",
   "execution_count": 20,
   "metadata": {},
   "outputs": [
    {
     "data": {
      "text/plain": [
       "datetime.date(2018, 12, 31)"
      ]
     },
     "execution_count": 20,
     "metadata": {},
     "output_type": "execute_result"
    }
   ],
   "source": [
    "np.max(train['buy_time'])"
   ]
  },
  {
   "cell_type": "markdown",
   "metadata": {},
   "source": [
    "Временной период для тренировочного набора составляет 09.07.2018- 31.12.2018 гг"
   ]
  },
  {
   "cell_type": "code",
   "execution_count": 21,
   "metadata": {},
   "outputs": [
    {
     "data": {
      "text/plain": [
       "datetime.date(2019, 1, 7)"
      ]
     },
     "execution_count": 21,
     "metadata": {},
     "output_type": "execute_result"
    }
   ],
   "source": [
    "np.min(test['buy_time'])"
   ]
  },
  {
   "cell_type": "code",
   "execution_count": 22,
   "metadata": {},
   "outputs": [
    {
     "data": {
      "text/plain": [
       "datetime.date(2019, 1, 21)"
      ]
     },
     "execution_count": 22,
     "metadata": {},
     "output_type": "execute_result"
    }
   ],
   "source": [
    "np.max(test['buy_time'])"
   ]
  },
  {
   "cell_type": "markdown",
   "metadata": {},
   "source": [
    "Временной период для тестового набора составляет 07.01.2019- 21.01.2019 гг"
   ]
  },
  {
   "cell_type": "markdown",
   "metadata": {},
   "source": [
    "#### Построим матрицу корреляций"
   ]
  },
  {
   "cell_type": "code",
   "execution_count": 23,
   "metadata": {},
   "outputs": [
    {
     "data": {
      "image/png": "[encoded data removed]",
      "text/plain": [
       "<Figure size 1008x864 with 2 Axes>"
      ]
     },
     "metadata": {
      "needs_background": "light"
     },
     "output_type": "display_data"
    }
   ],
   "source": [
    "plt, ax = plt.subplots(figsize=(14, 12))\n",
    "sns.heatmap(features.corr(),ax=ax);"
   ]
  },
  {
   "cell_type": "markdown",
   "metadata": {},
   "source": [
    "Согласно тепловой карте, признаки 75, 81, 85, 139, 203 не содержат значений, а следовательно могут быть исключены из дальнейших расчетов"
   ]
  },
  {
   "cell_type": "code",
   "execution_count": 24,
   "metadata": {},
   "outputs": [
    {
     "data": {
      "text/html": [
       "<div>\n",
       "<style scoped>\n",
       "    .dataframe tbody tr th:only-of-type {\n",
       "        vertical-align: middle;\n",
       "    }\n",
       "\n",
       "    .dataframe tbody tr th {\n",
       "        vertical-align: top;\n",
       "    }\n",
       "\n",
       "    .dataframe thead th {\n",
       "        text-align: right;\n",
       "    }\n",
       "</style>\n",
       "<table border=\"1\" class=\"dataframe\">\n",
       "  <thead>\n",
       "    <tr style=\"text-align: right;\">\n",
       "      <th></th>\n",
       "      <th>75</th>\n",
       "      <th>81</th>\n",
       "      <th>85</th>\n",
       "      <th>139</th>\n",
       "      <th>203</th>\n",
       "    </tr>\n",
       "  </thead>\n",
       "  <tbody>\n",
       "    <tr>\n",
       "      <th>count</th>\n",
       "      <td>4512528.0</td>\n",
       "      <td>4512528.0</td>\n",
       "      <td>4512528.0</td>\n",
       "      <td>4512528.0</td>\n",
       "      <td>4512528.0</td>\n",
       "    </tr>\n",
       "    <tr>\n",
       "      <th>mean</th>\n",
       "      <td>0.0</td>\n",
       "      <td>0.0</td>\n",
       "      <td>0.0</td>\n",
       "      <td>0.0</td>\n",
       "      <td>0.0</td>\n",
       "    </tr>\n",
       "    <tr>\n",
       "      <th>std</th>\n",
       "      <td>0.0</td>\n",
       "      <td>0.0</td>\n",
       "      <td>0.0</td>\n",
       "      <td>0.0</td>\n",
       "      <td>0.0</td>\n",
       "    </tr>\n",
       "    <tr>\n",
       "      <th>min</th>\n",
       "      <td>0.0</td>\n",
       "      <td>0.0</td>\n",
       "      <td>0.0</td>\n",
       "      <td>0.0</td>\n",
       "      <td>0.0</td>\n",
       "    </tr>\n",
       "    <tr>\n",
       "      <th>25%</th>\n",
       "      <td>0.0</td>\n",
       "      <td>0.0</td>\n",
       "      <td>0.0</td>\n",
       "      <td>0.0</td>\n",
       "      <td>0.0</td>\n",
       "    </tr>\n",
       "    <tr>\n",
       "      <th>50%</th>\n",
       "      <td>0.0</td>\n",
       "      <td>0.0</td>\n",
       "      <td>0.0</td>\n",
       "      <td>0.0</td>\n",
       "      <td>0.0</td>\n",
       "    </tr>\n",
       "    <tr>\n",
       "      <th>75%</th>\n",
       "      <td>0.0</td>\n",
       "      <td>0.0</td>\n",
       "      <td>0.0</td>\n",
       "      <td>0.0</td>\n",
       "      <td>0.0</td>\n",
       "    </tr>\n",
       "    <tr>\n",
       "      <th>max</th>\n",
       "      <td>0.0</td>\n",
       "      <td>0.0</td>\n",
       "      <td>0.0</td>\n",
       "      <td>0.0</td>\n",
       "      <td>0.0</td>\n",
       "    </tr>\n",
       "  </tbody>\n",
       "</table>\n",
       "</div>"
      ],
      "text/plain": [
       "              75         81         85        139        203\n",
       "count  4512528.0  4512528.0  4512528.0  4512528.0  4512528.0\n",
       "mean         0.0        0.0        0.0        0.0        0.0\n",
       "std          0.0        0.0        0.0        0.0        0.0\n",
       "min          0.0        0.0        0.0        0.0        0.0\n",
       "25%          0.0        0.0        0.0        0.0        0.0\n",
       "50%          0.0        0.0        0.0        0.0        0.0\n",
       "75%          0.0        0.0        0.0        0.0        0.0\n",
       "max          0.0        0.0        0.0        0.0        0.0"
      ]
     },
     "execution_count": 24,
     "metadata": {},
     "output_type": "execute_result"
    }
   ],
   "source": [
    "features[['75', '81', '85', '139', '203']].describe()"
   ]
  },
  {
   "cell_type": "code",
   "execution_count": 25,
   "metadata": {},
   "outputs": [],
   "source": [
    "features.drop(['75', '81', '85', '139', '203'], axis=1, inplace=True)"
   ]
  },
  {
   "cell_type": "markdown",
   "metadata": {},
   "source": [
    "#### Проверим датасеты на наличие дубликатов"
   ]
  },
  {
   "cell_type": "code",
   "execution_count": 26,
   "metadata": {},
   "outputs": [
    {
     "data": {
      "text/plain": [
       "False    806613\n",
       "True      25040\n",
       "dtype: int64"
      ]
     },
     "execution_count": 26,
     "metadata": {},
     "output_type": "execute_result"
    }
   ],
   "source": [
    "train.duplicated(subset=['id']).value_counts()"
   ]
  },
  {
   "cell_type": "code",
   "execution_count": 27,
   "metadata": {},
   "outputs": [
    {
     "data": {
      "text/plain": [
       "False    70152\n",
       "True      1079\n",
       "dtype: int64"
      ]
     },
     "execution_count": 27,
     "metadata": {},
     "output_type": "execute_result"
    }
   ],
   "source": [
    "test.duplicated(subset=['id']).value_counts()"
   ]
  },
  {
   "cell_type": "code",
   "execution_count": 28,
   "metadata": {},
   "outputs": [
    {
     "data": {
      "text/plain": [
       "False    4362739\n",
       "True      149789\n",
       "dtype: int64"
      ]
     },
     "execution_count": 28,
     "metadata": {},
     "output_type": "execute_result"
    }
   ],
   "source": [
    "features.duplicated(subset=['id']).value_counts()"
   ]
  },
  {
   "cell_type": "code",
   "execution_count": 29,
   "metadata": {},
   "outputs": [
    {
     "data": {
      "text/html": [
       "<div>\n",
       "<style scoped>\n",
       "    .dataframe tbody tr th:only-of-type {\n",
       "        vertical-align: middle;\n",
       "    }\n",
       "\n",
       "    .dataframe tbody tr th {\n",
       "        vertical-align: top;\n",
       "    }\n",
       "\n",
       "    .dataframe thead th {\n",
       "        text-align: right;\n",
       "    }\n",
       "</style>\n",
       "<table border=\"1\" class=\"dataframe\">\n",
       "  <thead>\n",
       "    <tr style=\"text-align: right;\">\n",
       "      <th></th>\n",
       "      <th>id</th>\n",
       "      <th>vas_id</th>\n",
       "      <th>buy_time</th>\n",
       "      <th>target</th>\n",
       "    </tr>\n",
       "  </thead>\n",
       "  <tbody>\n",
       "    <tr>\n",
       "      <th>14042</th>\n",
       "      <td>342</td>\n",
       "      <td>2.0</td>\n",
       "      <td>2018-11-19</td>\n",
       "      <td>1.0</td>\n",
       "    </tr>\n",
       "    <tr>\n",
       "      <th>14041</th>\n",
       "      <td>342</td>\n",
       "      <td>1.0</td>\n",
       "      <td>2018-11-05</td>\n",
       "      <td>0.0</td>\n",
       "    </tr>\n",
       "    <tr>\n",
       "      <th>19825</th>\n",
       "      <td>492</td>\n",
       "      <td>6.0</td>\n",
       "      <td>2018-12-17</td>\n",
       "      <td>1.0</td>\n",
       "    </tr>\n",
       "    <tr>\n",
       "      <th>19824</th>\n",
       "      <td>492</td>\n",
       "      <td>4.0</td>\n",
       "      <td>2018-10-08</td>\n",
       "      <td>0.0</td>\n",
       "    </tr>\n",
       "    <tr>\n",
       "      <th>22908</th>\n",
       "      <td>579</td>\n",
       "      <td>4.0</td>\n",
       "      <td>2018-11-19</td>\n",
       "      <td>1.0</td>\n",
       "    </tr>\n",
       "    <tr>\n",
       "      <th>...</th>\n",
       "      <td>...</td>\n",
       "      <td>...</td>\n",
       "      <td>...</td>\n",
       "      <td>...</td>\n",
       "    </tr>\n",
       "    <tr>\n",
       "      <th>751154</th>\n",
       "      <td>4339012</td>\n",
       "      <td>2.0</td>\n",
       "      <td>2018-11-19</td>\n",
       "      <td>1.0</td>\n",
       "    </tr>\n",
       "    <tr>\n",
       "      <th>248700</th>\n",
       "      <td>4347691</td>\n",
       "      <td>4.0</td>\n",
       "      <td>2018-11-26</td>\n",
       "      <td>0.0</td>\n",
       "    </tr>\n",
       "    <tr>\n",
       "      <th>248701</th>\n",
       "      <td>4347691</td>\n",
       "      <td>6.0</td>\n",
       "      <td>2018-11-19</td>\n",
       "      <td>1.0</td>\n",
       "    </tr>\n",
       "    <tr>\n",
       "      <th>366175</th>\n",
       "      <td>4350615</td>\n",
       "      <td>2.0</td>\n",
       "      <td>2018-12-10</td>\n",
       "      <td>1.0</td>\n",
       "    </tr>\n",
       "    <tr>\n",
       "      <th>366174</th>\n",
       "      <td>4350615</td>\n",
       "      <td>1.0</td>\n",
       "      <td>2018-07-23</td>\n",
       "      <td>0.0</td>\n",
       "    </tr>\n",
       "  </tbody>\n",
       "</table>\n",
       "<p>50042 rows × 4 columns</p>\n",
       "</div>"
      ],
      "text/plain": [
       "             id  vas_id    buy_time  target\n",
       "14042       342     2.0  2018-11-19     1.0\n",
       "14041       342     1.0  2018-11-05     0.0\n",
       "19825       492     6.0  2018-12-17     1.0\n",
       "19824       492     4.0  2018-10-08     0.0\n",
       "22908       579     4.0  2018-11-19     1.0\n",
       "...         ...     ...         ...     ...\n",
       "751154  4339012     2.0  2018-11-19     1.0\n",
       "248700  4347691     4.0  2018-11-26     0.0\n",
       "248701  4347691     6.0  2018-11-19     1.0\n",
       "366175  4350615     2.0  2018-12-10     1.0\n",
       "366174  4350615     1.0  2018-07-23     0.0\n",
       "\n",
       "[50042 rows x 4 columns]"
      ]
     },
     "execution_count": 29,
     "metadata": {},
     "output_type": "execute_result"
    }
   ],
   "source": [
    "ids = train[\"id\"]\n",
    "train[ids.isin(ids[ids.duplicated()])].sort_values('id')"
   ]
  },
  {
   "cell_type": "markdown",
   "metadata": {},
   "source": [
    "### Сохранение датасетов"
   ]
  },
  {
   "cell_type": "code",
   "execution_count": 30,
   "metadata": {},
   "outputs": [],
   "source": [
    "train.to_pickle(path.joinpath('train.pkl'))\n",
    "\n",
    "test.to_pickle(path.joinpath('test.pkl'))\n",
    "\n",
    "features.to_pickle(path.joinpath('features.pkl'))"
   ]
  },
  {
   "cell_type": "markdown",
   "metadata": {},
   "source": [
    "#### Чтение ранее сохраненных наборов данных"
   ]
  },
  {
   "cell_type": "code",
   "execution_count": 31,
   "metadata": {},
   "outputs": [],
   "source": [
    "train = pd.read_pickle(path.joinpath('train.pkl'))\n",
    "\n",
    "test = pd.read_pickle(path.joinpath('test.pkl'))\n",
    "\n",
    "features = pd.read_pickle(path.joinpath('features.pkl'))"
   ]
  },
  {
   "cell_type": "markdown",
   "metadata": {},
   "source": [
    "### Проведем исследование повторяющихся id"
   ]
  },
  {
   "cell_type": "code",
   "execution_count": 32,
   "metadata": {},
   "outputs": [
    {
     "data": {
      "text/html": [
       "<div>\n",
       "<style scoped>\n",
       "    .dataframe tbody tr th:only-of-type {\n",
       "        vertical-align: middle;\n",
       "    }\n",
       "\n",
       "    .dataframe tbody tr th {\n",
       "        vertical-align: top;\n",
       "    }\n",
       "\n",
       "    .dataframe thead th {\n",
       "        text-align: right;\n",
       "    }\n",
       "</style>\n",
       "<table border=\"1\" class=\"dataframe\">\n",
       "  <thead>\n",
       "    <tr style=\"text-align: right;\">\n",
       "      <th></th>\n",
       "      <th>id</th>\n",
       "      <th>vas_id</th>\n",
       "      <th>buy_time</th>\n",
       "      <th>target</th>\n",
       "    </tr>\n",
       "  </thead>\n",
       "  <tbody>\n",
       "    <tr>\n",
       "      <th>14042</th>\n",
       "      <td>342</td>\n",
       "      <td>2.0</td>\n",
       "      <td>2018-11-19</td>\n",
       "      <td>1.0</td>\n",
       "    </tr>\n",
       "    <tr>\n",
       "      <th>14041</th>\n",
       "      <td>342</td>\n",
       "      <td>1.0</td>\n",
       "      <td>2018-11-05</td>\n",
       "      <td>0.0</td>\n",
       "    </tr>\n",
       "    <tr>\n",
       "      <th>19825</th>\n",
       "      <td>492</td>\n",
       "      <td>6.0</td>\n",
       "      <td>2018-12-17</td>\n",
       "      <td>1.0</td>\n",
       "    </tr>\n",
       "    <tr>\n",
       "      <th>19824</th>\n",
       "      <td>492</td>\n",
       "      <td>4.0</td>\n",
       "      <td>2018-10-08</td>\n",
       "      <td>0.0</td>\n",
       "    </tr>\n",
       "    <tr>\n",
       "      <th>22908</th>\n",
       "      <td>579</td>\n",
       "      <td>4.0</td>\n",
       "      <td>2018-11-19</td>\n",
       "      <td>1.0</td>\n",
       "    </tr>\n",
       "    <tr>\n",
       "      <th>22909</th>\n",
       "      <td>579</td>\n",
       "      <td>6.0</td>\n",
       "      <td>2018-12-31</td>\n",
       "      <td>0.0</td>\n",
       "    </tr>\n",
       "    <tr>\n",
       "      <th>23753</th>\n",
       "      <td>610</td>\n",
       "      <td>8.0</td>\n",
       "      <td>2018-08-27</td>\n",
       "      <td>0.0</td>\n",
       "    </tr>\n",
       "    <tr>\n",
       "      <th>23754</th>\n",
       "      <td>610</td>\n",
       "      <td>8.0</td>\n",
       "      <td>2018-11-19</td>\n",
       "      <td>1.0</td>\n",
       "    </tr>\n",
       "    <tr>\n",
       "      <th>26111</th>\n",
       "      <td>665</td>\n",
       "      <td>6.0</td>\n",
       "      <td>2018-11-26</td>\n",
       "      <td>1.0</td>\n",
       "    </tr>\n",
       "    <tr>\n",
       "      <th>26110</th>\n",
       "      <td>665</td>\n",
       "      <td>2.0</td>\n",
       "      <td>2018-12-10</td>\n",
       "      <td>0.0</td>\n",
       "    </tr>\n",
       "  </tbody>\n",
       "</table>\n",
       "</div>"
      ],
      "text/plain": [
       "        id  vas_id    buy_time  target\n",
       "14042  342     2.0  2018-11-19     1.0\n",
       "14041  342     1.0  2018-11-05     0.0\n",
       "19825  492     6.0  2018-12-17     1.0\n",
       "19824  492     4.0  2018-10-08     0.0\n",
       "22908  579     4.0  2018-11-19     1.0\n",
       "22909  579     6.0  2018-12-31     0.0\n",
       "23753  610     8.0  2018-08-27     0.0\n",
       "23754  610     8.0  2018-11-19     1.0\n",
       "26111  665     6.0  2018-11-26     1.0\n",
       "26110  665     2.0  2018-12-10     0.0"
      ]
     },
     "execution_count": 32,
     "metadata": {},
     "output_type": "execute_result"
    }
   ],
   "source": [
    "ids = train[\"id\"]\n",
    "train[ids.isin(ids[ids.duplicated()])].sort_values('id').head(10)"
   ]
  },
  {
   "cell_type": "code",
   "execution_count": 33,
   "metadata": {},
   "outputs": [
    {
     "data": {
      "text/html": [
       "<div>\n",
       "<style scoped>\n",
       "    .dataframe tbody tr th:only-of-type {\n",
       "        vertical-align: middle;\n",
       "    }\n",
       "\n",
       "    .dataframe tbody tr th {\n",
       "        vertical-align: top;\n",
       "    }\n",
       "\n",
       "    .dataframe thead th {\n",
       "        text-align: right;\n",
       "    }\n",
       "</style>\n",
       "<table border=\"1\" class=\"dataframe\">\n",
       "  <thead>\n",
       "    <tr style=\"text-align: right;\">\n",
       "      <th></th>\n",
       "      <th>id</th>\n",
       "      <th>vas_id</th>\n",
       "      <th>buy_time</th>\n",
       "    </tr>\n",
       "  </thead>\n",
       "  <tbody>\n",
       "    <tr>\n",
       "      <th>552</th>\n",
       "      <td>274</td>\n",
       "      <td>4.0</td>\n",
       "      <td>2019-01-21</td>\n",
       "    </tr>\n",
       "    <tr>\n",
       "      <th>551</th>\n",
       "      <td>274</td>\n",
       "      <td>2.0</td>\n",
       "      <td>2019-01-14</td>\n",
       "    </tr>\n",
       "    <tr>\n",
       "      <th>10677</th>\n",
       "      <td>4770</td>\n",
       "      <td>4.0</td>\n",
       "      <td>2019-01-14</td>\n",
       "    </tr>\n",
       "    <tr>\n",
       "      <th>10676</th>\n",
       "      <td>4770</td>\n",
       "      <td>2.0</td>\n",
       "      <td>2019-01-21</td>\n",
       "    </tr>\n",
       "    <tr>\n",
       "      <th>20241</th>\n",
       "      <td>8166</td>\n",
       "      <td>1.0</td>\n",
       "      <td>2019-01-07</td>\n",
       "    </tr>\n",
       "    <tr>\n",
       "      <th>20242</th>\n",
       "      <td>8166</td>\n",
       "      <td>6.0</td>\n",
       "      <td>2019-01-21</td>\n",
       "    </tr>\n",
       "    <tr>\n",
       "      <th>25062</th>\n",
       "      <td>9775</td>\n",
       "      <td>6.0</td>\n",
       "      <td>2019-01-14</td>\n",
       "    </tr>\n",
       "    <tr>\n",
       "      <th>25061</th>\n",
       "      <td>9775</td>\n",
       "      <td>2.0</td>\n",
       "      <td>2019-01-07</td>\n",
       "    </tr>\n",
       "    <tr>\n",
       "      <th>40336</th>\n",
       "      <td>15522</td>\n",
       "      <td>2.0</td>\n",
       "      <td>2019-01-07</td>\n",
       "    </tr>\n",
       "    <tr>\n",
       "      <th>40337</th>\n",
       "      <td>15522</td>\n",
       "      <td>6.0</td>\n",
       "      <td>2019-01-14</td>\n",
       "    </tr>\n",
       "  </tbody>\n",
       "</table>\n",
       "</div>"
      ],
      "text/plain": [
       "          id  vas_id    buy_time\n",
       "552      274     4.0  2019-01-21\n",
       "551      274     2.0  2019-01-14\n",
       "10677   4770     4.0  2019-01-14\n",
       "10676   4770     2.0  2019-01-21\n",
       "20241   8166     1.0  2019-01-07\n",
       "20242   8166     6.0  2019-01-21\n",
       "25062   9775     6.0  2019-01-14\n",
       "25061   9775     2.0  2019-01-07\n",
       "40336  15522     2.0  2019-01-07\n",
       "40337  15522     6.0  2019-01-14"
      ]
     },
     "execution_count": 33,
     "metadata": {},
     "output_type": "execute_result"
    }
   ],
   "source": [
    "ids = test[\"id\"]\n",
    "test[ids.isin(ids[ids.duplicated()])].sort_values('id').head(10)"
   ]
  },
  {
   "cell_type": "code",
   "execution_count": 34,
   "metadata": {},
   "outputs": [
    {
     "data": {
      "text/html": [
       "<div>\n",
       "<style scoped>\n",
       "    .dataframe tbody tr th:only-of-type {\n",
       "        vertical-align: middle;\n",
       "    }\n",
       "\n",
       "    .dataframe tbody tr th {\n",
       "        vertical-align: top;\n",
       "    }\n",
       "\n",
       "    .dataframe thead th {\n",
       "        text-align: right;\n",
       "    }\n",
       "</style>\n",
       "<table border=\"1\" class=\"dataframe\">\n",
       "  <thead>\n",
       "    <tr style=\"text-align: right;\">\n",
       "      <th></th>\n",
       "      <th>id</th>\n",
       "      <th>buy_time</th>\n",
       "      <th>0</th>\n",
       "      <th>1</th>\n",
       "      <th>2</th>\n",
       "      <th>3</th>\n",
       "      <th>4</th>\n",
       "      <th>5</th>\n",
       "      <th>6</th>\n",
       "      <th>7</th>\n",
       "      <th>...</th>\n",
       "      <th>243</th>\n",
       "      <th>244</th>\n",
       "      <th>245</th>\n",
       "      <th>246</th>\n",
       "      <th>247</th>\n",
       "      <th>248</th>\n",
       "      <th>249</th>\n",
       "      <th>250</th>\n",
       "      <th>251</th>\n",
       "      <th>252</th>\n",
       "    </tr>\n",
       "  </thead>\n",
       "  <tbody>\n",
       "    <tr>\n",
       "      <th>3790832</th>\n",
       "      <td>46</td>\n",
       "      <td>2018-10-15</td>\n",
       "      <td>-96.799973</td>\n",
       "      <td>-408.179108</td>\n",
       "      <td>-81.080788</td>\n",
       "      <td>-426.886810</td>\n",
       "      <td>-75.908249</td>\n",
       "      <td>-435.281799</td>\n",
       "      <td>-16.086180</td>\n",
       "      <td>-65.076096</td>\n",
       "      <td>...</td>\n",
       "      <td>13177.625977</td>\n",
       "      <td>3432.229248</td>\n",
       "      <td>-20.996269</td>\n",
       "      <td>-32.630447</td>\n",
       "      <td>-34.747723</td>\n",
       "      <td>-4.832889</td>\n",
       "      <td>-0.694429</td>\n",
       "      <td>-4.175933</td>\n",
       "      <td>-0.45614</td>\n",
       "      <td>0.0</td>\n",
       "    </tr>\n",
       "    <tr>\n",
       "      <th>702950</th>\n",
       "      <td>46</td>\n",
       "      <td>2018-08-27</td>\n",
       "      <td>-96.799973</td>\n",
       "      <td>15.550888</td>\n",
       "      <td>-110.740784</td>\n",
       "      <td>49.363201</td>\n",
       "      <td>-116.158249</td>\n",
       "      <td>28.258211</td>\n",
       "      <td>-16.086180</td>\n",
       "      <td>-65.076096</td>\n",
       "      <td>...</td>\n",
       "      <td>813.626160</td>\n",
       "      <td>-174.770798</td>\n",
       "      <td>-24.996269</td>\n",
       "      <td>-31.630449</td>\n",
       "      <td>-92.747726</td>\n",
       "      <td>-13.832889</td>\n",
       "      <td>-0.694429</td>\n",
       "      <td>-0.175933</td>\n",
       "      <td>-0.45614</td>\n",
       "      <td>0.0</td>\n",
       "    </tr>\n",
       "    <tr>\n",
       "      <th>1276326</th>\n",
       "      <td>63</td>\n",
       "      <td>2018-11-19</td>\n",
       "      <td>34.410030</td>\n",
       "      <td>204.150894</td>\n",
       "      <td>20.469213</td>\n",
       "      <td>232.073196</td>\n",
       "      <td>15.051754</td>\n",
       "      <td>210.968216</td>\n",
       "      <td>-16.086180</td>\n",
       "      <td>-59.146095</td>\n",
       "      <td>...</td>\n",
       "      <td>-313.373840</td>\n",
       "      <td>-266.770782</td>\n",
       "      <td>-25.996269</td>\n",
       "      <td>-8.630448</td>\n",
       "      <td>790.252258</td>\n",
       "      <td>-23.832888</td>\n",
       "      <td>-0.694429</td>\n",
       "      <td>-12.175933</td>\n",
       "      <td>-0.45614</td>\n",
       "      <td>0.0</td>\n",
       "    </tr>\n",
       "    <tr>\n",
       "      <th>1027878</th>\n",
       "      <td>63</td>\n",
       "      <td>2018-07-23</td>\n",
       "      <td>504.740021</td>\n",
       "      <td>1330.840942</td>\n",
       "      <td>519.619202</td>\n",
       "      <td>1388.833252</td>\n",
       "      <td>514.201782</td>\n",
       "      <td>1367.728149</td>\n",
       "      <td>532.213806</td>\n",
       "      <td>1201.013916</td>\n",
       "      <td>...</td>\n",
       "      <td>-943.373840</td>\n",
       "      <td>-613.770813</td>\n",
       "      <td>-25.996269</td>\n",
       "      <td>-26.630449</td>\n",
       "      <td>106.252274</td>\n",
       "      <td>-25.832888</td>\n",
       "      <td>-0.694429</td>\n",
       "      <td>-12.175933</td>\n",
       "      <td>-0.45614</td>\n",
       "      <td>0.0</td>\n",
       "    </tr>\n",
       "    <tr>\n",
       "      <th>2944225</th>\n",
       "      <td>71</td>\n",
       "      <td>2018-09-24</td>\n",
       "      <td>-79.009972</td>\n",
       "      <td>-390.389099</td>\n",
       "      <td>-92.950783</td>\n",
       "      <td>-404.846802</td>\n",
       "      <td>-98.368248</td>\n",
       "      <td>-425.951782</td>\n",
       "      <td>-6.766180</td>\n",
       "      <td>-55.756096</td>\n",
       "      <td>...</td>\n",
       "      <td>-851.373840</td>\n",
       "      <td>-492.770782</td>\n",
       "      <td>-25.996269</td>\n",
       "      <td>-37.630447</td>\n",
       "      <td>-285.747711</td>\n",
       "      <td>-20.832888</td>\n",
       "      <td>-0.694429</td>\n",
       "      <td>-7.175933</td>\n",
       "      <td>-0.45614</td>\n",
       "      <td>0.0</td>\n",
       "    </tr>\n",
       "    <tr>\n",
       "      <th>100527</th>\n",
       "      <td>71</td>\n",
       "      <td>2018-09-17</td>\n",
       "      <td>-96.799973</td>\n",
       "      <td>-408.179108</td>\n",
       "      <td>-102.260788</td>\n",
       "      <td>-414.156799</td>\n",
       "      <td>-107.678246</td>\n",
       "      <td>-435.261780</td>\n",
       "      <td>-16.086180</td>\n",
       "      <td>-65.076096</td>\n",
       "      <td>...</td>\n",
       "      <td>-977.373840</td>\n",
       "      <td>-613.770813</td>\n",
       "      <td>-25.996269</td>\n",
       "      <td>-37.630447</td>\n",
       "      <td>-296.747711</td>\n",
       "      <td>-25.832888</td>\n",
       "      <td>-0.694429</td>\n",
       "      <td>-12.175933</td>\n",
       "      <td>-0.45614</td>\n",
       "      <td>0.0</td>\n",
       "    </tr>\n",
       "    <tr>\n",
       "      <th>3193002</th>\n",
       "      <td>82</td>\n",
       "      <td>2018-12-31</td>\n",
       "      <td>80.290031</td>\n",
       "      <td>-34.929111</td>\n",
       "      <td>99.679214</td>\n",
       "      <td>79.253204</td>\n",
       "      <td>94.261757</td>\n",
       "      <td>58.148209</td>\n",
       "      <td>-9.416180</td>\n",
       "      <td>114.893906</td>\n",
       "      <td>...</td>\n",
       "      <td>-975.373840</td>\n",
       "      <td>-613.770813</td>\n",
       "      <td>-25.996269</td>\n",
       "      <td>-37.630447</td>\n",
       "      <td>-275.747711</td>\n",
       "      <td>-24.832888</td>\n",
       "      <td>-0.694429</td>\n",
       "      <td>-12.175933</td>\n",
       "      <td>-0.45614</td>\n",
       "      <td>0.0</td>\n",
       "    </tr>\n",
       "    <tr>\n",
       "      <th>4048200</th>\n",
       "      <td>82</td>\n",
       "      <td>2018-12-17</td>\n",
       "      <td>-96.799973</td>\n",
       "      <td>-204.789108</td>\n",
       "      <td>-75.150787</td>\n",
       "      <td>-204.016800</td>\n",
       "      <td>-80.568245</td>\n",
       "      <td>-225.121796</td>\n",
       "      <td>-16.086180</td>\n",
       "      <td>-65.076096</td>\n",
       "      <td>...</td>\n",
       "      <td>-977.373840</td>\n",
       "      <td>-613.770813</td>\n",
       "      <td>-25.996269</td>\n",
       "      <td>-37.630447</td>\n",
       "      <td>-306.747711</td>\n",
       "      <td>-25.832888</td>\n",
       "      <td>-0.694429</td>\n",
       "      <td>-12.175933</td>\n",
       "      <td>-0.45614</td>\n",
       "      <td>0.0</td>\n",
       "    </tr>\n",
       "    <tr>\n",
       "      <th>3555510</th>\n",
       "      <td>86</td>\n",
       "      <td>2018-08-13</td>\n",
       "      <td>49.150028</td>\n",
       "      <td>10.390888</td>\n",
       "      <td>63.159214</td>\n",
       "      <td>11.993202</td>\n",
       "      <td>57.741753</td>\n",
       "      <td>-9.111790</td>\n",
       "      <td>72.883820</td>\n",
       "      <td>125.573906</td>\n",
       "      <td>...</td>\n",
       "      <td>-950.373840</td>\n",
       "      <td>-593.770813</td>\n",
       "      <td>-24.996269</td>\n",
       "      <td>-37.630447</td>\n",
       "      <td>81.252274</td>\n",
       "      <td>-4.832889</td>\n",
       "      <td>-0.694429</td>\n",
       "      <td>8.824067</td>\n",
       "      <td>-0.45614</td>\n",
       "      <td>1.0</td>\n",
       "    </tr>\n",
       "    <tr>\n",
       "      <th>4499749</th>\n",
       "      <td>86</td>\n",
       "      <td>2018-09-10</td>\n",
       "      <td>-91.209969</td>\n",
       "      <td>113.100891</td>\n",
       "      <td>-96.670784</td>\n",
       "      <td>87.623199</td>\n",
       "      <td>-102.088249</td>\n",
       "      <td>66.518211</td>\n",
       "      <td>-16.086180</td>\n",
       "      <td>11.183903</td>\n",
       "      <td>...</td>\n",
       "      <td>-18.373846</td>\n",
       "      <td>338.229218</td>\n",
       "      <td>-25.996269</td>\n",
       "      <td>-18.630449</td>\n",
       "      <td>-253.747726</td>\n",
       "      <td>-22.832888</td>\n",
       "      <td>-0.694429</td>\n",
       "      <td>-9.175933</td>\n",
       "      <td>-0.45614</td>\n",
       "      <td>0.0</td>\n",
       "    </tr>\n",
       "  </tbody>\n",
       "</table>\n",
       "<p>10 rows × 250 columns</p>\n",
       "</div>"
      ],
      "text/plain": [
       "         id    buy_time           0            1           2            3  \\\n",
       "3790832  46  2018-10-15  -96.799973  -408.179108  -81.080788  -426.886810   \n",
       "702950   46  2018-08-27  -96.799973    15.550888 -110.740784    49.363201   \n",
       "1276326  63  2018-11-19   34.410030   204.150894   20.469213   232.073196   \n",
       "1027878  63  2018-07-23  504.740021  1330.840942  519.619202  1388.833252   \n",
       "2944225  71  2018-09-24  -79.009972  -390.389099  -92.950783  -404.846802   \n",
       "100527   71  2018-09-17  -96.799973  -408.179108 -102.260788  -414.156799   \n",
       "3193002  82  2018-12-31   80.290031   -34.929111   99.679214    79.253204   \n",
       "4048200  82  2018-12-17  -96.799973  -204.789108  -75.150787  -204.016800   \n",
       "3555510  86  2018-08-13   49.150028    10.390888   63.159214    11.993202   \n",
       "4499749  86  2018-09-10  -91.209969   113.100891  -96.670784    87.623199   \n",
       "\n",
       "                  4            5           6            7  ...           243  \\\n",
       "3790832  -75.908249  -435.281799  -16.086180   -65.076096  ...  13177.625977   \n",
       "702950  -116.158249    28.258211  -16.086180   -65.076096  ...    813.626160   \n",
       "1276326   15.051754   210.968216  -16.086180   -59.146095  ...   -313.373840   \n",
       "1027878  514.201782  1367.728149  532.213806  1201.013916  ...   -943.373840   \n",
       "2944225  -98.368248  -425.951782   -6.766180   -55.756096  ...   -851.373840   \n",
       "100527  -107.678246  -435.261780  -16.086180   -65.076096  ...   -977.373840   \n",
       "3193002   94.261757    58.148209   -9.416180   114.893906  ...   -975.373840   \n",
       "4048200  -80.568245  -225.121796  -16.086180   -65.076096  ...   -977.373840   \n",
       "3555510   57.741753    -9.111790   72.883820   125.573906  ...   -950.373840   \n",
       "4499749 -102.088249    66.518211  -16.086180    11.183903  ...    -18.373846   \n",
       "\n",
       "                 244        245        246         247        248       249  \\\n",
       "3790832  3432.229248 -20.996269 -32.630447  -34.747723  -4.832889 -0.694429   \n",
       "702950   -174.770798 -24.996269 -31.630449  -92.747726 -13.832889 -0.694429   \n",
       "1276326  -266.770782 -25.996269  -8.630448  790.252258 -23.832888 -0.694429   \n",
       "1027878  -613.770813 -25.996269 -26.630449  106.252274 -25.832888 -0.694429   \n",
       "2944225  -492.770782 -25.996269 -37.630447 -285.747711 -20.832888 -0.694429   \n",
       "100527   -613.770813 -25.996269 -37.630447 -296.747711 -25.832888 -0.694429   \n",
       "3193002  -613.770813 -25.996269 -37.630447 -275.747711 -24.832888 -0.694429   \n",
       "4048200  -613.770813 -25.996269 -37.630447 -306.747711 -25.832888 -0.694429   \n",
       "3555510  -593.770813 -24.996269 -37.630447   81.252274  -4.832889 -0.694429   \n",
       "4499749   338.229218 -25.996269 -18.630449 -253.747726 -22.832888 -0.694429   \n",
       "\n",
       "               250      251  252  \n",
       "3790832  -4.175933 -0.45614  0.0  \n",
       "702950   -0.175933 -0.45614  0.0  \n",
       "1276326 -12.175933 -0.45614  0.0  \n",
       "1027878 -12.175933 -0.45614  0.0  \n",
       "2944225  -7.175933 -0.45614  0.0  \n",
       "100527  -12.175933 -0.45614  0.0  \n",
       "3193002 -12.175933 -0.45614  0.0  \n",
       "4048200 -12.175933 -0.45614  0.0  \n",
       "3555510   8.824067 -0.45614  1.0  \n",
       "4499749  -9.175933 -0.45614  0.0  \n",
       "\n",
       "[10 rows x 250 columns]"
      ]
     },
     "execution_count": 34,
     "metadata": {},
     "output_type": "execute_result"
    }
   ],
   "source": [
    "ids = features[\"id\"]\n",
    "features[ids.isin(ids[ids.duplicated()])].sort_values('id').head(10) "
   ]
  },
  {
   "cell_type": "code",
   "execution_count": 35,
   "metadata": {},
   "outputs": [
    {
     "data": {
      "text/plain": [
       "1979418    2\n",
       "952143     2\n",
       "3665143    2\n",
       "306509     2\n",
       "133051     2\n",
       "          ..\n",
       "3025411    1\n",
       "3021317    1\n",
       "3017223    1\n",
       "3168717    1\n",
       "2889499    1\n",
       "Name: id, Length: 4362739, dtype: int64"
      ]
     },
     "execution_count": 35,
     "metadata": {},
     "output_type": "execute_result"
    }
   ],
   "source": [
    "features['id'].value_counts().sort_values(ascending=False)"
   ]
  },
  {
   "cell_type": "markdown",
   "metadata": {},
   "source": [
    "Количество дубликатов не превышает двух, следовательно клиенту предлагали не больше двух услуг. Это позволяет произвести объединение датасетов."
   ]
  },
  {
   "cell_type": "markdown",
   "metadata": {},
   "source": [
    "### Объединение датасетов"
   ]
  },
  {
   "cell_type": "markdown",
   "metadata": {},
   "source": [
    "Проведем объединение датасетов таким образом, чтобы id сопадали, а строки из датасета features брались с ближайшей датой."
   ]
  },
  {
   "cell_type": "code",
   "execution_count": 36,
   "metadata": {},
   "outputs": [
    {
     "data": {
      "text/html": [
       "<div>\n",
       "<style scoped>\n",
       "    .dataframe tbody tr th:only-of-type {\n",
       "        vertical-align: middle;\n",
       "    }\n",
       "\n",
       "    .dataframe tbody tr th {\n",
       "        vertical-align: top;\n",
       "    }\n",
       "\n",
       "    .dataframe thead th {\n",
       "        text-align: right;\n",
       "    }\n",
       "</style>\n",
       "<table border=\"1\" class=\"dataframe\">\n",
       "  <thead>\n",
       "    <tr style=\"text-align: right;\">\n",
       "      <th></th>\n",
       "      <th>id</th>\n",
       "      <th>vas_id</th>\n",
       "      <th>buy_time</th>\n",
       "      <th>target</th>\n",
       "      <th>0</th>\n",
       "      <th>1</th>\n",
       "      <th>2</th>\n",
       "      <th>3</th>\n",
       "      <th>4</th>\n",
       "      <th>5</th>\n",
       "      <th>...</th>\n",
       "      <th>243</th>\n",
       "      <th>244</th>\n",
       "      <th>245</th>\n",
       "      <th>246</th>\n",
       "      <th>247</th>\n",
       "      <th>248</th>\n",
       "      <th>249</th>\n",
       "      <th>250</th>\n",
       "      <th>251</th>\n",
       "      <th>252</th>\n",
       "    </tr>\n",
       "  </thead>\n",
       "  <tbody>\n",
       "    <tr>\n",
       "      <th>0</th>\n",
       "      <td>2</td>\n",
       "      <td>2.0</td>\n",
       "      <td>2018-12-24</td>\n",
       "      <td>0.0</td>\n",
       "      <td>-96.799973</td>\n",
       "      <td>229.530884</td>\n",
       "      <td>-110.740784</td>\n",
       "      <td>305.723206</td>\n",
       "      <td>-116.158249</td>\n",
       "      <td>284.618225</td>\n",
       "      <td>...</td>\n",
       "      <td>2300.626221</td>\n",
       "      <td>1492.229248</td>\n",
       "      <td>-21.996269</td>\n",
       "      <td>-35.630447</td>\n",
       "      <td>368.252289</td>\n",
       "      <td>11.167111</td>\n",
       "      <td>7.305572</td>\n",
       "      <td>-12.175933</td>\n",
       "      <td>-0.45614</td>\n",
       "      <td>0.0</td>\n",
       "    </tr>\n",
       "    <tr>\n",
       "      <th>1</th>\n",
       "      <td>4</td>\n",
       "      <td>1.0</td>\n",
       "      <td>2018-08-06</td>\n",
       "      <td>0.0</td>\n",
       "      <td>-52.309971</td>\n",
       "      <td>-225.139114</td>\n",
       "      <td>-66.250786</td>\n",
       "      <td>-258.246796</td>\n",
       "      <td>-71.668243</td>\n",
       "      <td>-279.351776</td>\n",
       "      <td>...</td>\n",
       "      <td>-977.373840</td>\n",
       "      <td>-613.770813</td>\n",
       "      <td>-25.996269</td>\n",
       "      <td>-37.630447</td>\n",
       "      <td>-304.747711</td>\n",
       "      <td>-25.832888</td>\n",
       "      <td>-0.694429</td>\n",
       "      <td>-12.175933</td>\n",
       "      <td>-0.45614</td>\n",
       "      <td>0.0</td>\n",
       "    </tr>\n",
       "    <tr>\n",
       "      <th>2</th>\n",
       "      <td>15</td>\n",
       "      <td>1.0</td>\n",
       "      <td>2018-08-13</td>\n",
       "      <td>0.0</td>\n",
       "      <td>49.150028</td>\n",
       "      <td>10.390888</td>\n",
       "      <td>63.159214</td>\n",
       "      <td>11.993202</td>\n",
       "      <td>57.741753</td>\n",
       "      <td>-9.111790</td>\n",
       "      <td>...</td>\n",
       "      <td>-950.373840</td>\n",
       "      <td>-593.770813</td>\n",
       "      <td>-24.996269</td>\n",
       "      <td>-37.630447</td>\n",
       "      <td>81.252274</td>\n",
       "      <td>-4.832889</td>\n",
       "      <td>-0.694429</td>\n",
       "      <td>8.824067</td>\n",
       "      <td>-0.45614</td>\n",
       "      <td>1.0</td>\n",
       "    </tr>\n",
       "    <tr>\n",
       "      <th>3</th>\n",
       "      <td>16</td>\n",
       "      <td>2.0</td>\n",
       "      <td>2018-10-29</td>\n",
       "      <td>0.0</td>\n",
       "      <td>42.570030</td>\n",
       "      <td>138.740891</td>\n",
       "      <td>28.629213</td>\n",
       "      <td>86.133202</td>\n",
       "      <td>23.211754</td>\n",
       "      <td>65.028214</td>\n",
       "      <td>...</td>\n",
       "      <td>1394.626099</td>\n",
       "      <td>1272.229248</td>\n",
       "      <td>-22.996269</td>\n",
       "      <td>-36.630447</td>\n",
       "      <td>-6.747724</td>\n",
       "      <td>-23.832888</td>\n",
       "      <td>-0.694429</td>\n",
       "      <td>-12.175933</td>\n",
       "      <td>-0.45614</td>\n",
       "      <td>0.0</td>\n",
       "    </tr>\n",
       "    <tr>\n",
       "      <th>4</th>\n",
       "      <td>29</td>\n",
       "      <td>1.0</td>\n",
       "      <td>2018-08-06</td>\n",
       "      <td>0.0</td>\n",
       "      <td>-52.309971</td>\n",
       "      <td>-225.139114</td>\n",
       "      <td>-66.250786</td>\n",
       "      <td>-258.246796</td>\n",
       "      <td>-71.668243</td>\n",
       "      <td>-279.351776</td>\n",
       "      <td>...</td>\n",
       "      <td>-977.373840</td>\n",
       "      <td>-613.770813</td>\n",
       "      <td>-25.996269</td>\n",
       "      <td>-37.630447</td>\n",
       "      <td>-304.747711</td>\n",
       "      <td>-25.832888</td>\n",
       "      <td>-0.694429</td>\n",
       "      <td>-12.175933</td>\n",
       "      <td>-0.45614</td>\n",
       "      <td>0.0</td>\n",
       "    </tr>\n",
       "    <tr>\n",
       "      <th>...</th>\n",
       "      <td>...</td>\n",
       "      <td>...</td>\n",
       "      <td>...</td>\n",
       "      <td>...</td>\n",
       "      <td>...</td>\n",
       "      <td>...</td>\n",
       "      <td>...</td>\n",
       "      <td>...</td>\n",
       "      <td>...</td>\n",
       "      <td>...</td>\n",
       "      <td>...</td>\n",
       "      <td>...</td>\n",
       "      <td>...</td>\n",
       "      <td>...</td>\n",
       "      <td>...</td>\n",
       "      <td>...</td>\n",
       "      <td>...</td>\n",
       "      <td>...</td>\n",
       "      <td>...</td>\n",
       "      <td>...</td>\n",
       "      <td>...</td>\n",
       "    </tr>\n",
       "    <tr>\n",
       "      <th>831648</th>\n",
       "      <td>4362634</td>\n",
       "      <td>1.0</td>\n",
       "      <td>2018-12-31</td>\n",
       "      <td>0.0</td>\n",
       "      <td>-93.749969</td>\n",
       "      <td>-66.149109</td>\n",
       "      <td>-105.190788</td>\n",
       "      <td>-107.776794</td>\n",
       "      <td>-110.608246</td>\n",
       "      <td>-128.881790</td>\n",
       "      <td>...</td>\n",
       "      <td>-974.373840</td>\n",
       "      <td>-610.770813</td>\n",
       "      <td>-25.996269</td>\n",
       "      <td>-37.630447</td>\n",
       "      <td>-306.747711</td>\n",
       "      <td>-25.832888</td>\n",
       "      <td>-0.694429</td>\n",
       "      <td>-12.175933</td>\n",
       "      <td>-0.45614</td>\n",
       "      <td>1.0</td>\n",
       "    </tr>\n",
       "    <tr>\n",
       "      <th>831649</th>\n",
       "      <td>4362640</td>\n",
       "      <td>2.0</td>\n",
       "      <td>2018-12-31</td>\n",
       "      <td>0.0</td>\n",
       "      <td>-93.749969</td>\n",
       "      <td>-66.149109</td>\n",
       "      <td>-105.190788</td>\n",
       "      <td>-107.776794</td>\n",
       "      <td>-110.608246</td>\n",
       "      <td>-128.881790</td>\n",
       "      <td>...</td>\n",
       "      <td>-974.373840</td>\n",
       "      <td>-610.770813</td>\n",
       "      <td>-25.996269</td>\n",
       "      <td>-37.630447</td>\n",
       "      <td>-306.747711</td>\n",
       "      <td>-25.832888</td>\n",
       "      <td>-0.694429</td>\n",
       "      <td>-12.175933</td>\n",
       "      <td>-0.45614</td>\n",
       "      <td>1.0</td>\n",
       "    </tr>\n",
       "    <tr>\n",
       "      <th>831650</th>\n",
       "      <td>4362647</td>\n",
       "      <td>6.0</td>\n",
       "      <td>2018-12-31</td>\n",
       "      <td>0.0</td>\n",
       "      <td>-93.749969</td>\n",
       "      <td>-66.149109</td>\n",
       "      <td>-105.190788</td>\n",
       "      <td>-107.776794</td>\n",
       "      <td>-110.608246</td>\n",
       "      <td>-128.881790</td>\n",
       "      <td>...</td>\n",
       "      <td>-974.373840</td>\n",
       "      <td>-610.770813</td>\n",
       "      <td>-25.996269</td>\n",
       "      <td>-37.630447</td>\n",
       "      <td>-306.747711</td>\n",
       "      <td>-25.832888</td>\n",
       "      <td>-0.694429</td>\n",
       "      <td>-12.175933</td>\n",
       "      <td>-0.45614</td>\n",
       "      <td>1.0</td>\n",
       "    </tr>\n",
       "    <tr>\n",
       "      <th>831651</th>\n",
       "      <td>4362684</td>\n",
       "      <td>5.0</td>\n",
       "      <td>2018-12-24</td>\n",
       "      <td>0.0</td>\n",
       "      <td>-96.799973</td>\n",
       "      <td>-408.179108</td>\n",
       "      <td>-110.740784</td>\n",
       "      <td>-460.786804</td>\n",
       "      <td>-116.158249</td>\n",
       "      <td>-481.891785</td>\n",
       "      <td>...</td>\n",
       "      <td>-977.373840</td>\n",
       "      <td>-613.770813</td>\n",
       "      <td>-25.996269</td>\n",
       "      <td>-37.630447</td>\n",
       "      <td>-306.747711</td>\n",
       "      <td>-25.832888</td>\n",
       "      <td>-0.694429</td>\n",
       "      <td>-12.175933</td>\n",
       "      <td>-0.45614</td>\n",
       "      <td>0.0</td>\n",
       "    </tr>\n",
       "    <tr>\n",
       "      <th>831652</th>\n",
       "      <td>4362694</td>\n",
       "      <td>2.0</td>\n",
       "      <td>2018-12-31</td>\n",
       "      <td>0.0</td>\n",
       "      <td>90.080032</td>\n",
       "      <td>-218.759109</td>\n",
       "      <td>89.909218</td>\n",
       "      <td>-200.426804</td>\n",
       "      <td>84.491753</td>\n",
       "      <td>-221.531784</td>\n",
       "      <td>...</td>\n",
       "      <td>-977.373840</td>\n",
       "      <td>-613.770813</td>\n",
       "      <td>-25.996269</td>\n",
       "      <td>-37.630447</td>\n",
       "      <td>-306.747711</td>\n",
       "      <td>-25.832888</td>\n",
       "      <td>-0.694429</td>\n",
       "      <td>-12.175933</td>\n",
       "      <td>-0.45614</td>\n",
       "      <td>1.0</td>\n",
       "    </tr>\n",
       "  </tbody>\n",
       "</table>\n",
       "<p>831653 rows × 252 columns</p>\n",
       "</div>"
      ],
      "text/plain": [
       "             id  vas_id    buy_time  target          0           1  \\\n",
       "0             2     2.0  2018-12-24     0.0 -96.799973  229.530884   \n",
       "1             4     1.0  2018-08-06     0.0 -52.309971 -225.139114   \n",
       "2            15     1.0  2018-08-13     0.0  49.150028   10.390888   \n",
       "3            16     2.0  2018-10-29     0.0  42.570030  138.740891   \n",
       "4            29     1.0  2018-08-06     0.0 -52.309971 -225.139114   \n",
       "...         ...     ...         ...     ...        ...         ...   \n",
       "831648  4362634     1.0  2018-12-31     0.0 -93.749969  -66.149109   \n",
       "831649  4362640     2.0  2018-12-31     0.0 -93.749969  -66.149109   \n",
       "831650  4362647     6.0  2018-12-31     0.0 -93.749969  -66.149109   \n",
       "831651  4362684     5.0  2018-12-24     0.0 -96.799973 -408.179108   \n",
       "831652  4362694     2.0  2018-12-31     0.0  90.080032 -218.759109   \n",
       "\n",
       "                 2           3           4           5  ...          243  \\\n",
       "0      -110.740784  305.723206 -116.158249  284.618225  ...  2300.626221   \n",
       "1       -66.250786 -258.246796  -71.668243 -279.351776  ...  -977.373840   \n",
       "2        63.159214   11.993202   57.741753   -9.111790  ...  -950.373840   \n",
       "3        28.629213   86.133202   23.211754   65.028214  ...  1394.626099   \n",
       "4       -66.250786 -258.246796  -71.668243 -279.351776  ...  -977.373840   \n",
       "...            ...         ...         ...         ...  ...          ...   \n",
       "831648 -105.190788 -107.776794 -110.608246 -128.881790  ...  -974.373840   \n",
       "831649 -105.190788 -107.776794 -110.608246 -128.881790  ...  -974.373840   \n",
       "831650 -105.190788 -107.776794 -110.608246 -128.881790  ...  -974.373840   \n",
       "831651 -110.740784 -460.786804 -116.158249 -481.891785  ...  -977.373840   \n",
       "831652   89.909218 -200.426804   84.491753 -221.531784  ...  -977.373840   \n",
       "\n",
       "                244        245        246         247        248       249  \\\n",
       "0       1492.229248 -21.996269 -35.630447  368.252289  11.167111  7.305572   \n",
       "1       -613.770813 -25.996269 -37.630447 -304.747711 -25.832888 -0.694429   \n",
       "2       -593.770813 -24.996269 -37.630447   81.252274  -4.832889 -0.694429   \n",
       "3       1272.229248 -22.996269 -36.630447   -6.747724 -23.832888 -0.694429   \n",
       "4       -613.770813 -25.996269 -37.630447 -304.747711 -25.832888 -0.694429   \n",
       "...             ...        ...        ...         ...        ...       ...   \n",
       "831648  -610.770813 -25.996269 -37.630447 -306.747711 -25.832888 -0.694429   \n",
       "831649  -610.770813 -25.996269 -37.630447 -306.747711 -25.832888 -0.694429   \n",
       "831650  -610.770813 -25.996269 -37.630447 -306.747711 -25.832888 -0.694429   \n",
       "831651  -613.770813 -25.996269 -37.630447 -306.747711 -25.832888 -0.694429   \n",
       "831652  -613.770813 -25.996269 -37.630447 -306.747711 -25.832888 -0.694429   \n",
       "\n",
       "              250      251  252  \n",
       "0      -12.175933 -0.45614  0.0  \n",
       "1      -12.175933 -0.45614  0.0  \n",
       "2        8.824067 -0.45614  1.0  \n",
       "3      -12.175933 -0.45614  0.0  \n",
       "4      -12.175933 -0.45614  0.0  \n",
       "...           ...      ...  ...  \n",
       "831648 -12.175933 -0.45614  1.0  \n",
       "831649 -12.175933 -0.45614  1.0  \n",
       "831650 -12.175933 -0.45614  1.0  \n",
       "831651 -12.175933 -0.45614  0.0  \n",
       "831652 -12.175933 -0.45614  1.0  \n",
       "\n",
       "[831653 rows x 252 columns]"
      ]
     },
     "execution_count": 36,
     "metadata": {},
     "output_type": "execute_result"
    }
   ],
   "source": [
    "train = pd.merge_asof(train.sort_values(by=['id']), \n",
    "                       features.sort_values(by=['id']), \n",
    "                       on='id', \n",
    "                       by='buy_time', \n",
    "                       direction='nearest')\n",
    "\n",
    "train"
   ]
  },
  {
   "cell_type": "markdown",
   "metadata": {},
   "source": [
    "### Построение модели XGBoost"
   ]
  },
  {
   "cell_type": "code",
   "execution_count": 37,
   "metadata": {},
   "outputs": [
    {
     "name": "stdout",
     "output_type": "stream",
     "text": [
      "X_train.shape = 623739 rows, 250 cols\n",
      "X_test.shape = 207914 rows, 250 cols\n"
     ]
    }
   ],
   "source": [
    "X_train, X_test, y_train, y_test = train_test_split(\n",
    "     train.drop(['target', 'buy_time'], axis=1),\n",
    "     train['target'], test_size=0.25, shuffle=True,random_state=42)\n",
    "\n",
    "\n",
    "print(\"X_train.shape = {} rows, {} cols\".format(*X_train.shape))\n",
    "print(\"X_test.shape = {} rows, {} cols\".format(*X_test.shape))"
   ]
  },
  {
   "cell_type": "code",
   "execution_count": 38,
   "metadata": {},
   "outputs": [
    {
     "data": {
      "text/plain": [
       "XGBClassifier(base_score=0.5, booster='gbtree', colsample_bylevel=1,\n",
       "              colsample_bynode=1, colsample_bytree=1, eval_metric='auc',\n",
       "              gamma=0, gpu_id=-1, importance_type='gain',\n",
       "              interaction_constraints='', learning_rate=0.300000012,\n",
       "              max_delta_step=0, max_depth=6, min_child_weight=1, missing=nan,\n",
       "              monotone_constraints='()', n_estimators=100, n_jobs=6,\n",
       "              num_parallel_tree=1, random_state=42, reg_alpha=0, reg_lambda=1,\n",
       "              scale_pos_weight=1, seed=42, subsample=1, tree_method='exact',\n",
       "              use_label_encoder=False, validate_parameters=1, verbosity=None)"
      ]
     },
     "execution_count": 38,
     "metadata": {},
     "output_type": "execute_result"
    }
   ],
   "source": [
    "params = {\n",
    "        \"objective\": \"binary:logistic\",\n",
    "        \"booster\" : \"gbtree\",\n",
    "        \"eval_metric\": \"auc\",\n",
    "        \"seed\": 42,\n",
    "        'use_label_encoder': False\n",
    "    }\n",
    "\n",
    "model = xgb.XGBClassifier(**params)\n",
    "\n",
    "model.fit(X_train, y_train.astype(int))"
   ]
  },
  {
   "cell_type": "code",
   "execution_count": 39,
   "metadata": {},
   "outputs": [],
   "source": [
    "train_pred = model.predict(X_train)\n",
    "\n",
    "test_pred = model.predict(X_test)"
   ]
  },
  {
   "cell_type": "code",
   "execution_count": 40,
   "metadata": {},
   "outputs": [
    {
     "data": {
      "text/plain": [
       "array([0, 0, 0, ..., 0, 0, 0])"
      ]
     },
     "execution_count": 40,
     "metadata": {},
     "output_type": "execute_result"
    }
   ],
   "source": [
    "train_pred"
   ]
  },
  {
   "cell_type": "code",
   "execution_count": 44,
   "metadata": {},
   "outputs": [
    {
     "data": {
      "image/png": "[encoded data removed]",
      "text/plain": [
       "<Figure size 432x288 with 1 Axes>"
      ]
     },
     "metadata": {
      "needs_background": "light"
     },
     "output_type": "display_data"
    }
   ],
   "source": [
    "plt.hist(train_pred);"
   ]
  },
  {
   "cell_type": "code",
   "execution_count": 45,
   "metadata": {},
   "outputs": [
    {
     "name": "stdout",
     "output_type": "stream",
     "text": [
      "Train-score: 0.65951, Test-score: 0.61011\n"
     ]
    }
   ],
   "source": [
    "train_score = f1_score(y_train, train_pred, average='macro')\n",
    "test_score = f1_score(y_test, test_pred, average='macro')\n",
    "\n",
    "print(f\"Train-score: {round(train_score, 5)}, Test-score: {round(test_score, 5)}\")"
   ]
  },
  {
   "cell_type": "markdown",
   "metadata": {},
   "source": [
    "### Проведем Cross-Validation"
   ]
  },
  {
   "cell_type": "code",
   "execution_count": 46,
   "metadata": {},
   "outputs": [],
   "source": [
    "def make_cross_validation(X: pd.DataFrame,\n",
    "                          y: pd.Series,\n",
    "                          estimator: object,\n",
    "                          metric: callable,\n",
    "                          cv_strategy):\n",
    "   \n",
    "    estimators, fold_train_scores, fold_valid_scores = [], [], []\n",
    "    oof_predictions = np.zeros(X.shape[0])\n",
    "\n",
    "    for fold_number, (train_idx, valid_idx) in enumerate(cv_strategy.split(X, y)):\n",
    "        x_train, x_valid = X.loc[train_idx], X.loc[valid_idx]\n",
    "        y_train, y_valid = y.loc[train_idx], y.loc[valid_idx]\n",
    "\n",
    "        estimator.fit(x_train, y_train)\n",
    "        y_train_pred = estimator.predict(x_train)\n",
    "        y_valid_pred = estimator.predict(x_valid)\n",
    "\n",
    "        fold_train_scores.append(metric(y_train, y_train_pred))\n",
    "        fold_valid_scores.append(metric(y_valid, y_valid_pred))\n",
    "        oof_predictions[valid_idx] = y_valid_pred\n",
    "\n",
    "        msg = (\n",
    "            f\"Fold: {fold_number+1}, train-observations = {len(train_idx)}, \"\n",
    "            f\"valid-observations = {len(valid_idx)}\\n\"\n",
    "            f\"train-score = {round(fold_train_scores[fold_number], 4)}, \"\n",
    "            f\"valid-score = {round(fold_valid_scores[fold_number], 4)}\" \n",
    "        )\n",
    "        print(msg)\n",
    "        print(\"=\"*69)\n",
    "        estimators.append(estimator)\n",
    "\n",
    "    oof_score = metric(y, oof_predictions)\n",
    "    print(f\"CV-results train: {round(np.mean(fold_train_scores), 4)} +/- {round(np.std(fold_train_scores), 3)}\")\n",
    "    print(f\"CV-results valid: {round(np.mean(fold_valid_scores), 4)} +/- {round(np.std(fold_valid_scores), 3)}\")\n",
    "    print(f\"OOF-score = {round(oof_score, 4)}\")\n",
    "\n",
    "    return estimators, oof_score, fold_train_scores, fold_valid_scores, oof_predictions"
   ]
  },
  {
   "cell_type": "code",
   "execution_count": 47,
   "metadata": {},
   "outputs": [],
   "source": [
    "def f1_score_macro(true, pred):\n",
    "    return f1_score(true, pred.astype(int), average='macro')"
   ]
  },
  {
   "cell_type": "code",
   "execution_count": 48,
   "metadata": {},
   "outputs": [
    {
     "name": "stdout",
     "output_type": "stream",
     "text": [
      "Fold: 1, train-observations = 748487, valid-observations = 83166\n",
      "train-score = 0.6466, valid-score = 0.6636\n",
      "=====================================================================\n",
      "Fold: 2, train-observations = 748487, valid-observations = 83166\n",
      "train-score = 0.6488, valid-score = 0.647\n",
      "=====================================================================\n",
      "Fold: 3, train-observations = 748487, valid-observations = 83166\n",
      "train-score = 0.6513, valid-score = 0.6469\n",
      "=====================================================================\n",
      "Fold: 4, train-observations = 748488, valid-observations = 83165\n",
      "train-score = 0.6556, valid-score = 0.6156\n",
      "=====================================================================\n",
      "Fold: 5, train-observations = 748488, valid-observations = 83165\n",
      "train-score = 0.6564, valid-score = 0.6027\n",
      "=====================================================================\n",
      "Fold: 6, train-observations = 748488, valid-observations = 83165\n",
      "train-score = 0.6559, valid-score = 0.5754\n",
      "=====================================================================\n",
      "Fold: 7, train-observations = 748488, valid-observations = 83165\n",
      "train-score = 0.6572, valid-score = 0.5614\n",
      "=====================================================================\n",
      "Fold: 8, train-observations = 748488, valid-observations = 83165\n",
      "train-score = 0.661, valid-score = 0.5511\n",
      "=====================================================================\n",
      "Fold: 9, train-observations = 748488, valid-observations = 83165\n",
      "train-score = 0.6559, valid-score = 0.5369\n",
      "=====================================================================\n",
      "Fold: 10, train-observations = 748488, valid-observations = 83165\n",
      "train-score = 0.6591, valid-score = 0.5991\n",
      "=====================================================================\n",
      "CV-results train: 0.6548 +/- 0.004\n",
      "CV-results valid: 0.6 +/- 0.041\n",
      "OOF-score = 0.6126\n"
     ]
    }
   ],
   "source": [
    "cv_strategy = KFold(n_splits=10)\n",
    "params = {\n",
    "        \"objective\": \"binary:logistic\",\n",
    "        \"booster\" : \"gbtree\",\n",
    "        \"eval_metric\": \"auc\",\n",
    "        \"seed\": 42,\n",
    "        'use_label_encoder': False\n",
    "    }\n",
    "\n",
    "model = xgb.XGBClassifier(**params)\n",
    "\n",
    "estimators, oof_score, fold_train_scores, fold_valid_scores, oof_predictions = make_cross_validation(\n",
    "    train.drop(['target', 'buy_time'], axis=1), \n",
    "    train['target'],\n",
    "    model, \n",
    "    metric=f1_score_macro, \n",
    "    cv_strategy=cv_strategy\n",
    ")"
   ]
  },
  {
   "cell_type": "markdown",
   "metadata": {},
   "source": [
    "### Сохраним обученную модель"
   ]
  },
  {
   "cell_type": "code",
   "execution_count": 49,
   "metadata": {},
   "outputs": [],
   "source": [
    "with open('model.pkl', 'wb') as file:\n",
    "    pickle.dump(model, file)"
   ]
  },
  {
   "cell_type": "markdown",
   "metadata": {},
   "source": [
    "### Сформируем индивидуальные предсказания"
   ]
  },
  {
   "cell_type": "code",
   "execution_count": 50,
   "metadata": {},
   "outputs": [
    {
     "data": {
      "text/plain": [
       "array([0.01653998, 0.27758604, 0.02578748, ..., 0.0201769 , 0.01700379,\n",
       "       0.02578748], dtype=float32)"
      ]
     },
     "execution_count": 50,
     "metadata": {},
     "output_type": "execute_result"
    }
   ],
   "source": [
    "offer = pd.DataFrame(test.drop(['buy_time'], axis=1))\n",
    "\n",
    "model.predict_proba(offer)[:,1]"
   ]
  },
  {
   "cell_type": "code",
   "execution_count": 51,
   "metadata": {},
   "outputs": [
    {
     "data": {
      "text/html": [
       "<div>\n",
       "<style scoped>\n",
       "    .dataframe tbody tr th:only-of-type {\n",
       "        vertical-align: middle;\n",
       "    }\n",
       "\n",
       "    .dataframe tbody tr th {\n",
       "        vertical-align: top;\n",
       "    }\n",
       "\n",
       "    .dataframe thead th {\n",
       "        text-align: right;\n",
       "    }\n",
       "</style>\n",
       "<table border=\"1\" class=\"dataframe\">\n",
       "  <thead>\n",
       "    <tr style=\"text-align: right;\">\n",
       "      <th></th>\n",
       "      <th>id</th>\n",
       "      <th>1</th>\n",
       "      <th>2</th>\n",
       "      <th>4</th>\n",
       "      <th>5</th>\n",
       "      <th>6</th>\n",
       "      <th>7</th>\n",
       "      <th>8</th>\n",
       "      <th>9</th>\n",
       "      <th>max prob offer</th>\n",
       "      <th>vas_id offer</th>\n",
       "    </tr>\n",
       "  </thead>\n",
       "  <tbody>\n",
       "    <tr>\n",
       "      <th>0</th>\n",
       "      <td>3130519</td>\n",
       "      <td>0.016540</td>\n",
       "      <td>0.016540</td>\n",
       "      <td>0.246312</td>\n",
       "      <td>0.016663</td>\n",
       "      <td>0.419953</td>\n",
       "      <td>0.012009</td>\n",
       "      <td>0.017036</td>\n",
       "      <td>0.118751</td>\n",
       "      <td>0.419953</td>\n",
       "      <td>6</td>\n",
       "    </tr>\n",
       "    <tr>\n",
       "      <th>1</th>\n",
       "      <td>2000860</td>\n",
       "      <td>0.020177</td>\n",
       "      <td>0.020177</td>\n",
       "      <td>0.277586</td>\n",
       "      <td>0.020815</td>\n",
       "      <td>0.426566</td>\n",
       "      <td>0.014163</td>\n",
       "      <td>0.020074</td>\n",
       "      <td>0.137701</td>\n",
       "      <td>0.426566</td>\n",
       "      <td>6</td>\n",
       "    </tr>\n",
       "    <tr>\n",
       "      <th>2</th>\n",
       "      <td>1099444</td>\n",
       "      <td>0.025787</td>\n",
       "      <td>0.025787</td>\n",
       "      <td>0.298950</td>\n",
       "      <td>0.025904</td>\n",
       "      <td>0.451273</td>\n",
       "      <td>0.015134</td>\n",
       "      <td>0.024468</td>\n",
       "      <td>0.173812</td>\n",
       "      <td>0.451273</td>\n",
       "      <td>6</td>\n",
       "    </tr>\n",
       "    <tr>\n",
       "      <th>3</th>\n",
       "      <td>1343255</td>\n",
       "      <td>0.025787</td>\n",
       "      <td>0.025787</td>\n",
       "      <td>0.298950</td>\n",
       "      <td>0.024603</td>\n",
       "      <td>0.445902</td>\n",
       "      <td>0.015134</td>\n",
       "      <td>0.021441</td>\n",
       "      <td>0.155248</td>\n",
       "      <td>0.445902</td>\n",
       "      <td>6</td>\n",
       "    </tr>\n",
       "    <tr>\n",
       "      <th>4</th>\n",
       "      <td>1277040</td>\n",
       "      <td>0.025787</td>\n",
       "      <td>0.025787</td>\n",
       "      <td>0.298950</td>\n",
       "      <td>0.025904</td>\n",
       "      <td>0.445902</td>\n",
       "      <td>0.015134</td>\n",
       "      <td>0.021441</td>\n",
       "      <td>0.155248</td>\n",
       "      <td>0.445902</td>\n",
       "      <td>6</td>\n",
       "    </tr>\n",
       "    <tr>\n",
       "      <th>...</th>\n",
       "      <td>...</td>\n",
       "      <td>...</td>\n",
       "      <td>...</td>\n",
       "      <td>...</td>\n",
       "      <td>...</td>\n",
       "      <td>...</td>\n",
       "      <td>...</td>\n",
       "      <td>...</td>\n",
       "      <td>...</td>\n",
       "      <td>...</td>\n",
       "      <td>...</td>\n",
       "    </tr>\n",
       "    <tr>\n",
       "      <th>71226</th>\n",
       "      <td>2502453</td>\n",
       "      <td>0.017004</td>\n",
       "      <td>0.017004</td>\n",
       "      <td>0.245212</td>\n",
       "      <td>0.019126</td>\n",
       "      <td>0.428058</td>\n",
       "      <td>0.014249</td>\n",
       "      <td>0.020195</td>\n",
       "      <td>0.138427</td>\n",
       "      <td>0.428058</td>\n",
       "      <td>6</td>\n",
       "    </tr>\n",
       "    <tr>\n",
       "      <th>71227</th>\n",
       "      <td>1693213</td>\n",
       "      <td>0.020177</td>\n",
       "      <td>0.020177</td>\n",
       "      <td>0.277586</td>\n",
       "      <td>0.021072</td>\n",
       "      <td>0.432233</td>\n",
       "      <td>0.014163</td>\n",
       "      <td>0.020074</td>\n",
       "      <td>0.137701</td>\n",
       "      <td>0.432233</td>\n",
       "      <td>6</td>\n",
       "    </tr>\n",
       "    <tr>\n",
       "      <th>71228</th>\n",
       "      <td>1891350</td>\n",
       "      <td>0.020177</td>\n",
       "      <td>0.020177</td>\n",
       "      <td>0.277586</td>\n",
       "      <td>0.020815</td>\n",
       "      <td>0.432233</td>\n",
       "      <td>0.014163</td>\n",
       "      <td>0.020074</td>\n",
       "      <td>0.137701</td>\n",
       "      <td>0.432233</td>\n",
       "      <td>6</td>\n",
       "    </tr>\n",
       "    <tr>\n",
       "      <th>71229</th>\n",
       "      <td>2437172</td>\n",
       "      <td>0.017004</td>\n",
       "      <td>0.017004</td>\n",
       "      <td>0.245212</td>\n",
       "      <td>0.019126</td>\n",
       "      <td>0.428058</td>\n",
       "      <td>0.014249</td>\n",
       "      <td>0.020195</td>\n",
       "      <td>0.138427</td>\n",
       "      <td>0.428058</td>\n",
       "      <td>6</td>\n",
       "    </tr>\n",
       "    <tr>\n",
       "      <th>71230</th>\n",
       "      <td>988236</td>\n",
       "      <td>0.025787</td>\n",
       "      <td>0.025787</td>\n",
       "      <td>0.301538</td>\n",
       "      <td>0.028659</td>\n",
       "      <td>0.458868</td>\n",
       "      <td>0.018308</td>\n",
       "      <td>0.025359</td>\n",
       "      <td>0.179144</td>\n",
       "      <td>0.458868</td>\n",
       "      <td>6</td>\n",
       "    </tr>\n",
       "  </tbody>\n",
       "</table>\n",
       "<p>71231 rows × 11 columns</p>\n",
       "</div>"
      ],
      "text/plain": [
       "            id         1         2         4         5         6         7  \\\n",
       "0      3130519  0.016540  0.016540  0.246312  0.016663  0.419953  0.012009   \n",
       "1      2000860  0.020177  0.020177  0.277586  0.020815  0.426566  0.014163   \n",
       "2      1099444  0.025787  0.025787  0.298950  0.025904  0.451273  0.015134   \n",
       "3      1343255  0.025787  0.025787  0.298950  0.024603  0.445902  0.015134   \n",
       "4      1277040  0.025787  0.025787  0.298950  0.025904  0.445902  0.015134   \n",
       "...        ...       ...       ...       ...       ...       ...       ...   \n",
       "71226  2502453  0.017004  0.017004  0.245212  0.019126  0.428058  0.014249   \n",
       "71227  1693213  0.020177  0.020177  0.277586  0.021072  0.432233  0.014163   \n",
       "71228  1891350  0.020177  0.020177  0.277586  0.020815  0.432233  0.014163   \n",
       "71229  2437172  0.017004  0.017004  0.245212  0.019126  0.428058  0.014249   \n",
       "71230   988236  0.025787  0.025787  0.301538  0.028659  0.458868  0.018308   \n",
       "\n",
       "              8         9  max prob offer  vas_id offer  \n",
       "0      0.017036  0.118751        0.419953             6  \n",
       "1      0.020074  0.137701        0.426566             6  \n",
       "2      0.024468  0.173812        0.451273             6  \n",
       "3      0.021441  0.155248        0.445902             6  \n",
       "4      0.021441  0.155248        0.445902             6  \n",
       "...         ...       ...             ...           ...  \n",
       "71226  0.020195  0.138427        0.428058             6  \n",
       "71227  0.020074  0.137701        0.432233             6  \n",
       "71228  0.020074  0.137701        0.432233             6  \n",
       "71229  0.020195  0.138427        0.428058             6  \n",
       "71230  0.025359  0.179144        0.458868             6  \n",
       "\n",
       "[71231 rows x 11 columns]"
      ]
     },
     "execution_count": 51,
     "metadata": {},
     "output_type": "execute_result"
    }
   ],
   "source": [
    "offer_predict = pd.DataFrame(test['id'].copy())\n",
    "\n",
    "\n",
    "for i in [1, 2, 4, 5, 6, 7, 8, 9]:\n",
    "    offer = pd.DataFrame(test['id'].copy())\n",
    "    offer['vas_id'] = i\n",
    "    offer_predict[i] = model.predict_proba(offer)[:,1]\n",
    "offer_predict['max prob offer'] = offer_predict.iloc[:, 1:-1].max(axis = 1)\n",
    "offer_predict['vas_id offer'] = offer_predict.iloc[:, 1:-1].idxmax(axis = 1)\n",
    "offer_predict"
   ]
  },
  {
   "cell_type": "markdown",
   "metadata": {},
   "source": [
    "#### Распределение услуг, рекомендованных к подключению"
   ]
  },
  {
   "cell_type": "code",
   "execution_count": 52,
   "metadata": {},
   "outputs": [
    {
     "data": {
      "image/png": "[encoded data removed]",
      "text/plain": [
       "<Figure size 432x288 with 1 Axes>"
      ]
     },
     "metadata": {
      "needs_background": "light"
     },
     "output_type": "display_data"
    }
   ],
   "source": [
    "plt.hist(offer_predict['vas_id offer'], log=True);"
   ]
  },
  {
   "cell_type": "code",
   "execution_count": 53,
   "metadata": {},
   "outputs": [
    {
     "data": {
      "text/plain": [
       "6    71231\n",
       "Name: vas_id offer, dtype: int64"
      ]
     },
     "execution_count": 53,
     "metadata": {},
     "output_type": "execute_result"
    }
   ],
   "source": [
    "offer_predict['vas_id offer'].value_counts()"
   ]
  },
  {
   "cell_type": "markdown",
   "metadata": {},
   "source": [
    "Всем абонентам будет предложена услуга № 6"
   ]
  },
  {
   "cell_type": "markdown",
   "metadata": {},
   "source": [
    "#### Распределение вероятностей подключения услуг "
   ]
  },
  {
   "cell_type": "code",
   "execution_count": 54,
   "metadata": {},
   "outputs": [
    {
     "data": {
      "image/png": "[encoded data removed]",
      "text/plain": [
       "<Figure size 432x288 with 1 Axes>"
      ]
     },
     "metadata": {
      "needs_background": "light"
     },
     "output_type": "display_data"
    }
   ],
   "source": [
    "plt.hist(offer_predict['max prob offer'], bins=50);"
   ]
  },
  {
   "cell_type": "markdown",
   "metadata": {},
   "source": [
    "### Сохраним рекомендации в файл 'offer.csv'"
   ]
  },
  {
   "cell_type": "code",
   "execution_count": 55,
   "metadata": {},
   "outputs": [],
   "source": [
    "offer_predict[['id', 'vas_id offer']].to_csv('offer.csv', index=False)"
   ]
  }
 ],
 "metadata": {
  "kernelspec": {
   "display_name": "Python 3 (ipykernel)",
   "language": "python",
   "name": "python3"
  },
  "language_info": {
   "codemirror_mode": {
    "name": "ipython",
    "version": 3
   },
   "file_extension": ".py",
   "mimetype": "text/x-python",
   "name": "python",
   "nbconvert_exporter": "python",
   "pygments_lexer": "ipython3",
   "version": "3.9.7"
  }
 },
 "nbformat": 4,
 "nbformat_minor": 4
}
